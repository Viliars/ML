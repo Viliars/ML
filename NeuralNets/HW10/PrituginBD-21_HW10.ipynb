{
 "cells": [
  {
   "cell_type": "markdown",
   "metadata": {},
   "source": [
    "ФИО: Притугин Михаил Алексеевич"
   ]
  },
  {
   "cell_type": "code",
   "execution_count": 1,
   "metadata": {},
   "outputs": [],
   "source": [
    "import torch\n",
    "import torch.nn as nn\n",
    "import torch.optim as optim\n",
    "import matplotlib.pyplot as plt\n",
    "\n",
    "from torch.autograd import Variable, grad\n",
    "from utils import create_dataloader\n",
    "from torch.utils.data import Dataset, DataLoader\n",
    "\n",
    "import time\n",
    "\n",
    "%matplotlib inline"
   ]
  },
  {
   "cell_type": "code",
   "execution_count": 2,
   "metadata": {},
   "outputs": [],
   "source": [
    "def get_noise(bs=16, noise_size=50):\n",
    "    return Variable(torch.FloatTensor(bs, noise_size).normal_(0, 1), requires_grad=False)"
   ]
  },
  {
   "cell_type": "code",
   "execution_count": 3,
   "metadata": {},
   "outputs": [],
   "source": [
    "class DataAcc:\n",
    "    def __init__(self, dataloader):\n",
    "        self.dl = dataloader\n",
    "        self.it = iter(self.dl)\n",
    "        \n",
    "    def reset(self):\n",
    "        self.it = iter(self.dl)\n",
    "    \n",
    "    def get_next(self):\n",
    "        res = None\n",
    "        try:\n",
    "            res = next(self.it)\n",
    "        except:\n",
    "            print('DataAcc reinit')\n",
    "            self.reset()\n",
    "            res = next(self.it)\n",
    "        return res\n",
    "\n",
    "# data_acc = DataAcc(dataloader)"
   ]
  },
  {
   "cell_type": "markdown",
   "metadata": {},
   "source": [
    "### Creating config object (argparse workaround)"
   ]
  },
  {
   "cell_type": "code",
   "execution_count": 4,
   "metadata": {},
   "outputs": [],
   "source": [
    "class Config:\n",
    "    pass\n",
    "\n",
    "config = Config()\n",
    "config.mnist_path = None\n",
    "config.batch_size = 16\n",
    "config.num_workers = 3\n",
    "config.num_epochs = 10\n",
    "config.noise_size = 50\n",
    "config.print_freq = 100"
   ]
  },
  {
   "cell_type": "markdown",
   "metadata": {},
   "source": [
    "### Create dataloder"
   ]
  },
  {
   "cell_type": "code",
   "execution_count": 5,
   "metadata": {},
   "outputs": [
    {
     "name": "stderr",
     "output_type": "stream",
     "text": [
      "\r",
      "0it [00:00, ?it/s]"
     ]
    },
    {
     "name": "stdout",
     "output_type": "stream",
     "text": [
      "Downloading http://yann.lecun.com/exdb/mnist/train-images-idx3-ubyte.gz to ./MNIST/raw/train-images-idx3-ubyte.gz\n"
     ]
    },
    {
     "name": "stderr",
     "output_type": "stream",
     "text": [
      " 99%|█████████▊| 9773056/9912422 [00:16<00:00, 1927243.65it/s]"
     ]
    },
    {
     "name": "stdout",
     "output_type": "stream",
     "text": [
      "Extracting ./MNIST/raw/train-images-idx3-ubyte.gz\n"
     ]
    },
    {
     "name": "stderr",
     "output_type": "stream",
     "text": [
      "\n",
      "0it [00:00, ?it/s]\u001b[A"
     ]
    },
    {
     "name": "stdout",
     "output_type": "stream",
     "text": [
      "Downloading http://yann.lecun.com/exdb/mnist/train-labels-idx1-ubyte.gz to ./MNIST/raw/train-labels-idx1-ubyte.gz\n"
     ]
    },
    {
     "name": "stderr",
     "output_type": "stream",
     "text": [
      "\n",
      "  0%|          | 0/28881 [00:00<?, ?it/s]\u001b[A\n",
      " 57%|█████▋    | 16384/28881 [00:00<00:00, 121975.40it/s]\u001b[A\n",
      "32768it [00:00, 78962.13it/s]                            \u001b[A\n",
      "0it [00:00, ?it/s]\u001b[A"
     ]
    },
    {
     "name": "stdout",
     "output_type": "stream",
     "text": [
      "Extracting ./MNIST/raw/train-labels-idx1-ubyte.gz\n",
      "Downloading http://yann.lecun.com/exdb/mnist/t10k-images-idx3-ubyte.gz to ./MNIST/raw/t10k-images-idx3-ubyte.gz\n"
     ]
    },
    {
     "name": "stderr",
     "output_type": "stream",
     "text": [
      "\n",
      "  0%|          | 0/1648877 [00:00<?, ?it/s]\u001b[A\n",
      "  1%|          | 16384/1648877 [00:00<00:17, 95486.16it/s]\u001b[A\n",
      "  1%|▏         | 24576/1648877 [00:00<00:28, 57563.61it/s]\u001b[A\n",
      "  2%|▏         | 32768/1648877 [00:00<00:27, 59117.94it/s]\u001b[A\n",
      "  4%|▍         | 65536/1648877 [00:01<00:21, 75121.91it/s]\u001b[A\n",
      "  5%|▌         | 90112/1648877 [00:01<00:16, 92039.27it/s]\u001b[A\n",
      "  7%|▋         | 114688/1648877 [00:01<00:14, 109329.94it/s]\u001b[A\n",
      "  8%|▊         | 139264/1648877 [00:01<00:12, 125520.96it/s]\u001b[A\n",
      " 10%|▉         | 163840/1648877 [00:01<00:10, 140449.55it/s]\u001b[A\n",
      " 12%|█▏        | 196608/1648877 [00:01<00:09, 159472.41it/s]\u001b[A\n",
      " 13%|█▎        | 221184/1648877 [00:01<00:08, 168094.91it/s]\u001b[A\n",
      " 15%|█▌        | 253952/1648877 [00:01<00:07, 186826.79it/s]\u001b[A\n",
      " 17%|█▋        | 286720/1648877 [00:02<00:06, 203105.82it/s]\u001b[A\n",
      " 19%|█▉        | 319488/1648877 [00:02<00:06, 212930.43it/s]\u001b[A\n",
      " 21%|██        | 344064/1648877 [00:02<00:06, 205900.17it/s]\u001b[A\n",
      " 23%|██▎       | 376832/1648877 [00:02<00:05, 218747.51it/s]\u001b[A\n",
      " 25%|██▍       | 409600/1648877 [00:02<00:05, 224446.79it/s]\u001b[A\n",
      " 27%|██▋       | 442368/1648877 [00:02<00:05, 231165.08it/s]\u001b[A\n",
      " 28%|██▊       | 466944/1648877 [00:02<00:05, 208044.81it/s]\u001b[A\n",
      " 30%|███       | 499712/1648877 [00:02<00:05, 217654.29it/s]\u001b[A\n",
      " 32%|███▏      | 524288/1648877 [00:03<00:05, 201873.53it/s]\u001b[A\n",
      " 33%|███▎      | 548864/1648877 [00:03<00:05, 197702.01it/s]\u001b[A\n",
      " 35%|███▍      | 573440/1648877 [00:03<00:07, 139917.78it/s]\u001b[A\n",
      " 36%|███▋      | 598016/1648877 [00:03<00:10, 98279.17it/s] \u001b[A\n",
      " 37%|███▋      | 614400/1648877 [00:04<00:10, 99639.70it/s]\u001b[A\n",
      " 39%|███▉      | 647168/1648877 [00:04<00:08, 116730.52it/s]\u001b[A\n",
      " 41%|████      | 679936/1648877 [00:04<00:06, 139550.50it/s]\u001b[A\n",
      " 44%|████▎     | 720896/1648877 [00:04<00:05, 164207.24it/s]\u001b[A\n",
      " 46%|████▌     | 753664/1648877 [00:04<00:04, 181885.87it/s]\u001b[A\n",
      " 48%|████▊     | 786432/1648877 [00:04<00:04, 209700.69it/s]\u001b[A\n",
      " 50%|████▉     | 819200/1648877 [00:04<00:03, 223381.85it/s]\u001b[A\n",
      " 52%|█████▏    | 860160/1648877 [00:05<00:03, 244289.13it/s]\u001b[A\n",
      " 54%|█████▍    | 892928/1648877 [00:05<00:03, 238182.26it/s]\u001b[A\n",
      " 57%|█████▋    | 933888/1648877 [00:05<00:02, 252468.99it/s]\u001b[A\n",
      " 59%|█████▊    | 966656/1648877 [00:05<00:05, 132854.92it/s]\u001b[A\n",
      " 60%|██████    | 991232/1648877 [00:06<00:08, 80187.02it/s] \u001b[A\n",
      " 63%|██████▎   | 1032192/1648877 [00:06<00:07, 84443.12it/s]\u001b[A\n",
      " 65%|██████▍   | 1064960/1648877 [00:07<00:05, 104520.86it/s]\u001b[A\n",
      " 67%|██████▋   | 1105920/1648877 [00:07<00:05, 105321.29it/s]\u001b[A\n",
      " 69%|██████▉   | 1138688/1648877 [00:07<00:04, 126545.63it/s]\u001b[A\n",
      " 72%|███████▏  | 1179648/1648877 [00:07<00:03, 128131.88it/s]\u001b[A\n",
      " 74%|███████▎  | 1212416/1648877 [00:07<00:02, 150427.22it/s]\u001b[A\n",
      " 76%|███████▌  | 1253376/1648877 [00:08<00:02, 178794.03it/s]\u001b[A\n",
      " 78%|███████▊  | 1286144/1648877 [00:08<00:02, 151503.27it/s]\u001b[A\n",
      " 79%|███████▉  | 1310720/1648877 [00:08<00:02, 154373.17it/s]\u001b[A\n",
      " 81%|████████  | 1335296/1648877 [00:08<00:01, 169150.15it/s]\u001b[A\n",
      " 82%|████████▏ | 1359872/1648877 [00:10<00:06, 45365.78it/s] \u001b[A\n",
      " 83%|████████▎ | 1376256/1648877 [00:10<00:06, 39342.75it/s]\u001b[A\n",
      " 85%|████████▍ | 1400832/1648877 [00:11<00:05, 46051.86it/s]\u001b[A\n",
      " 86%|████████▋ | 1425408/1648877 [00:11<00:03, 59091.41it/s]\u001b[A\n",
      " 89%|████████▉ | 1466368/1648877 [00:11<00:02, 67647.49it/s]\u001b[A\n",
      "9920512it [00:30, 1927243.65it/s]                             A\n",
      " 93%|█████████▎| 1540096/1648877 [00:12<00:01, 84368.53it/s]\u001b[A\n",
      " 97%|█████████▋| 1605632/1648877 [00:12<00:00, 100276.60it/s]\u001b[A\n",
      " 99%|█████████▉| 1638400/1648877 [00:12<00:00, 115556.52it/s]\u001b[A\n",
      "\n",
      "0it [00:00, ?it/s]\u001b[A\u001b[A"
     ]
    },
    {
     "name": "stdout",
     "output_type": "stream",
     "text": [
      "Extracting ./MNIST/raw/t10k-images-idx3-ubyte.gz\n",
      "Downloading http://yann.lecun.com/exdb/mnist/t10k-labels-idx1-ubyte.gz to ./MNIST/raw/t10k-labels-idx1-ubyte.gz\n"
     ]
    },
    {
     "name": "stderr",
     "output_type": "stream",
     "text": [
      "\n",
      "\n",
      "  0%|          | 0/4542 [00:00<?, ?it/s]\u001b[A\u001b[A\n",
      "\n",
      "8192it [00:00, 17936.67it/s]            \u001b[A\u001b[A"
     ]
    },
    {
     "name": "stdout",
     "output_type": "stream",
     "text": [
      "Extracting ./MNIST/raw/t10k-labels-idx1-ubyte.gz\n",
      "Processing...\n",
      "Done!\n"
     ]
    },
    {
     "name": "stderr",
     "output_type": "stream",
     "text": [
      "\n",
      "1654784it [00:32, 115556.52it/s]                             \u001b[A"
     ]
    }
   ],
   "source": [
    "dataloader = create_dataloader(config)"
   ]
  },
  {
   "cell_type": "code",
   "execution_count": 6,
   "metadata": {},
   "outputs": [
    {
     "data": {
      "text/plain": [
       "3750"
      ]
     },
     "execution_count": 6,
     "metadata": {},
     "output_type": "execute_result"
    }
   ],
   "source": [
    "len(dataloader)"
   ]
  },
  {
   "cell_type": "markdown",
   "metadata": {},
   "source": [
    "### Create generator and discriminator"
   ]
  },
  {
   "cell_type": "code",
   "execution_count": 7,
   "metadata": {
    "collapsed": true
   },
   "outputs": [],
   "source": [
    "class Generator(nn.Module):\n",
    "    def __init__(self):\n",
    "        super(Generator, self).__init__()\n",
    "        self.model = nn.Sequential( \n",
    "            nn.Linear(config.noise_size, 200),\n",
    "            nn.ReLU(inplace=True),\n",
    "            nn.Linear(200, 28*28),\n",
    "            nn.Sigmoid())\n",
    "        \n",
    "    def forward(self, x):\n",
    "        return self.model(x)\n",
    "    \n",
    "class Discriminator(nn.Module):\n",
    "    def __init__(self):\n",
    "        super(Discriminator, self).__init__()\n",
    "        self.model = nn.Sequential(\n",
    "            nn.Linear(28*28, 200),\n",
    "            nn.ReLU(inplace=True),\n",
    "            nn.Linear(200, 50),\n",
    "            nn.ReLU(inplace=True),\n",
    "            nn.Linear(50, 1), \n",
    "            nn.Sigmoid())\n",
    "    def forward(self, x):\n",
    "        return self.model(x)"
   ]
  },
  {
   "cell_type": "code",
   "execution_count": 8,
   "metadata": {
    "collapsed": true
   },
   "outputs": [],
   "source": [
    "generator = Generator().cpu()\n",
    "discriminator = Discriminator().cpu()"
   ]
  },
  {
   "cell_type": "markdown",
   "metadata": {},
   "source": [
    "### Create optimizers and loss"
   ]
  },
  {
   "cell_type": "code",
   "execution_count": 9,
   "metadata": {
    "collapsed": true
   },
   "outputs": [],
   "source": [
    "optim_G = optim.Adam(params=generator.parameters(), lr=0.0001)\n",
    "optim_D = optim.Adam(params=discriminator.parameters(), lr=0.0001)"
   ]
  },
  {
   "cell_type": "markdown",
   "metadata": {},
   "source": [
    "### Create necessary variables"
   ]
  },
  {
   "cell_type": "code",
   "execution_count": 10,
   "metadata": {
    "collapsed": true
   },
   "outputs": [],
   "source": [
    "input = Variable(torch.FloatTensor(config.batch_size, 28*28))\n",
    "noise = Variable(torch.FloatTensor(config.batch_size, config.noise_size))\n",
    "fixed_noise = Variable(torch.FloatTensor(config.batch_size, config.noise_size).normal_(0, 1))\n",
    "label = Variable(torch.FloatTensor(config.batch_size))\n",
    "real_label = 1\n",
    "fake_label = 0"
   ]
  },
  {
   "cell_type": "markdown",
   "metadata": {},
   "source": [
    "### Задание\n",
    "\n",
    "1) Имплементируйте GAN из статьи\n",
    "\n",
    "2) Попробуйте LSGAN https://arxiv.org/pdf/1611.04076v2.pdf\n",
    "\n",
    "3) Попробуйте оба GAN на CelebA http://mmlab.ie.cuhk.edu.hk/projects/CelebA.html\n",
    "\n",
    "4) Напишите отчет что попробовали, какие результаты получили, как вам кажется надо обучать GAN, чтобы добиться сходимости?\n",
    "\n",
    "Обязательны графики."
   ]
  },
  {
   "cell_type": "markdown",
   "metadata": {},
   "source": [
    "### Main loop"
   ]
  },
  {
   "cell_type": "markdown",
   "metadata": {},
   "source": [
    "#### GAN on MNIST"
   ]
  },
  {
   "cell_type": "code",
   "execution_count": null,
   "metadata": {
    "collapsed": true
   },
   "outputs": [],
   "source": [
    "criterion = nn.BCELoss()\n",
    "for epoch in range(config.num_epochs):\n",
    "    for iteration, (images, cat) in enumerate(dataloader):\n",
    "        ####### \n",
    "        # Discriminator stage: maximize log(D(x)) + log(1 - D(G(z))) \n",
    "        #######\n",
    "        discriminator.zero_grad()\n",
    "        \n",
    "        # real\n",
    "        images = Variable(images, requires_grad=False).view(-1, 784).cpu()\n",
    "        loss = criterion(discriminator(images), Variable(torch.ones(config.batch_size, 1)).cpu())\n",
    "        loss.backward()\n",
    "        errD_x = loss.data.item()\n",
    "        \n",
    "        # fake\n",
    "        fake_images = generator(get_noise().cpu()).detach()\n",
    "        loss = criterion(discriminator(fake_images), Variable(torch.zeros(config.batch_size, 1)).cpu())\n",
    "        loss.backward()\n",
    "        errD_z = loss.data.item()\n",
    "        \n",
    "        optim_D.step()\n",
    "        \n",
    "        ####### \n",
    "        # Generator stage: maximize log(D(G(x))\n",
    "        #######\n",
    "        generator.zero_grad()\n",
    "        \n",
    "        fake_images = generator(get_noise().cpu())\n",
    "        loss = criterion(discriminator(fake_images), Variable(torch.ones(config.batch_size, 1)).cpu())\n",
    "        loss.backward()\n",
    "        errG = loss.data.item()\n",
    "        \n",
    "        optim_G.step()\n",
    "        \n",
    "        if (iteration+1) % config.print_freq == 0:\n",
    "            print('Epoch:{} Iter: {} errD_x: {:.2f} errD_z: {:.2f} errG: {:.2f}'.format(epoch+1,\n",
    "                                                                                            iteration+1, \n",
    "                                                                                            errD_x,\n",
    "                                                                                            errD_z, \n",
    "                                                                                            errG))\n",
    "    "
   ]
  },
  {
   "cell_type": "code",
   "execution_count": 15,
   "metadata": {},
   "outputs": [
    {
     "data": {
      "image/png": "[encoded data removed]",
      "text/plain": [
       "<matplotlib.figure.Figure at 0x7efc10705208>"
      ]
     },
     "metadata": {},
     "output_type": "display_data"
    }
   ],
   "source": [
    "X = generator(get_noise(25).cpu()).data.cpu().numpy()\n",
    "\n",
    "plt.figure(figsize=(6, 7))\n",
    "for i in range(25):\n",
    "    plt.subplot(5, 5, i+1)\n",
    "    plt.imshow(X[i].reshape(28, 28), cmap=plt.cm.Greys_r)\n",
    "    plt.axis('off')"
   ]
  },
  {
   "cell_type": "markdown",
   "metadata": {},
   "source": [
    "#### LSGAN on MNIST"
   ]
  },
  {
   "cell_type": "code",
   "execution_count": 20,
   "metadata": {
    "collapsed": true
   },
   "outputs": [],
   "source": [
    "generator = Generator().cpu()\n",
    "discriminator = Discriminator().cpu()\n",
    "\n",
    "optim_G = optim.Adam(params=generator.parameters(), lr=0.00004)\n",
    "optim_D = optim.Adam(params=discriminator.parameters(), lr=0.00003)"
   ]
  },
  {
   "cell_type": "code",
   "execution_count": null,
   "metadata": {
    "collapsed": true,
    "scrolled": true
   },
   "outputs": [],
   "source": [
    "criterion = nn.MSELoss()\n",
    "for iteration in range(3000):\n",
    "    errD_x = 0\n",
    "    errD_z = 0\n",
    "    errG = 0\n",
    "    for _ in range(3):\n",
    "        ####### \n",
    "        # Discriminator stage: minimize (D(x) - 1)^2 + (D(G(z)))^2\n",
    "        #######\n",
    "        discriminator.zero_grad()\n",
    "        images, _ = data_acc.get_next()\n",
    "        # real\n",
    "        images = Variable(images, requires_grad=False).view(-1, 784).cpu()\n",
    "        loss = criterion(discriminator(images), Variable(torch.ones(config.batch_size, 1)).cpu())\n",
    "        loss.backward()\n",
    "        errD_x = loss.data.item()\n",
    "        \n",
    "        # fake\n",
    "        fake_images = generator(get_noise().cpu()).detach()\n",
    "        loss = criterion(discriminator(fake_images), Variable(torch.zeros(config.batch_size, 1)).cpu())\n",
    "        loss.backward()\n",
    "        errD_z = loss.data.item()\n",
    "        \n",
    "        optim_D.step()\n",
    "        \n",
    "    for _ in range(1):\n",
    "        ####### \n",
    "        # Generator stage: minmize (D(G(x) - 1)^2\n",
    "        #######\n",
    "        generator.zero_grad()\n",
    "        \n",
    "        fake_images = generator(get_noise().cpu())\n",
    "        loss = criterion(discriminator(fake_images), Variable(torch.ones(config.batch_size, 1)).cpu())\n",
    "        loss.backward()\n",
    "        errG = loss.data.item()\n",
    "        \n",
    "        optim_G.step()\n",
    "        \n",
    "    if (iteration+1) % 100 == 0:\n",
    "        print('Iter:{} errD_x: {:.2f} errD_z: {:.2f} errG: {:.2f}'.format(iteration+1,\n",
    "                                                                                    errD_x,\n",
    "                                                                                    errD_z, \n",
    "                                                                                    errG))"
   ]
  },
  {
   "cell_type": "code",
   "execution_count": 46,
   "metadata": {},
   "outputs": [
    {
     "data": {
      "image/png": "[encoded data removed]",
      "text/plain": [
       "<matplotlib.figure.Figure at 0x7ffa854c6e80>"
      ]
     },
     "metadata": {},
     "output_type": "display_data"
    }
   ],
   "source": [
    "X = generator(get_noise(25).cpu()).data.cpu().numpy()\n",
    "\n",
    "plt.figure(figsize=(6, 7))\n",
    "for i in range(25):\n",
    "    plt.subplot(5, 5, i+1)\n",
    "    plt.imshow(X[i].reshape(28, 28), cmap=plt.cm.Greys_r)\n",
    "    plt.axis('off')"
   ]
  }
 ],
 "metadata": {
  "anaconda-cloud": {},
  "kernelspec": {
   "display_name": "Python 3",
   "language": "python",
   "name": "python3"
  },
  "language_info": {
   "codemirror_mode": {
    "name": "ipython",
    "version": 3
   },
   "file_extension": ".py",
   "mimetype": "text/x-python",
   "name": "python",
   "nbconvert_exporter": "python",
   "pygments_lexer": "ipython3",
   "version": "3.7.1"
  }
 },
 "nbformat": 4,
 "nbformat_minor": 1
}
