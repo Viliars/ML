{
 "cells": [
  {
   "cell_type": "markdown",
   "metadata": {},
   "source": [
    "## Семинар 9: \"LSTM\""
   ]
  },
  {
   "cell_type": "markdown",
   "metadata": {},
   "source": [
    "ФИО: Притугин Михаил Алексеевич"
   ]
  },
  {
   "cell_type": "code",
   "execution_count": 1,
   "metadata": {},
   "outputs": [],
   "source": [
    "import numpy as np\n",
    "from sklearn.model_selection import train_test_split\n",
    "import matplotlib.pyplot as plt\n",
    "from torch import optim\n",
    "import torch\n",
    "from torch import nn\n",
    "from torch.autograd import Variable\n",
    "import pandas\n",
    "from sklearn.preprocessing import MinMaxScaler\n",
    "from torch.utils.data import Dataset, DataLoader\n",
    "from torch.optim.lr_scheduler import StepLR\n",
    "%matplotlib inline"
   ]
  },
  {
   "cell_type": "markdown",
   "metadata": {},
   "source": [
    "Этот семинар посвящен реализации RNN в pyTorch"
   ]
  },
  {
   "cell_type": "markdown",
   "metadata": {},
   "source": [
    "## Задание 1"
   ]
  },
  {
   "cell_type": "markdown",
   "metadata": {},
   "source": [
    "Напишите свою реализацию LSTM."
   ]
  },
  {
   "cell_type": "markdown",
   "metadata": {},
   "source": [
    "<img src=\"https://cdn-images-1.medium.com/max/1600/1*hl9UVtgIcQkDIGD8VFykdw.png\" width=\"640\">"
   ]
  },
  {
   "cell_type": "code",
   "execution_count": 2,
   "metadata": {},
   "outputs": [],
   "source": [
    "class LSTM(nn.Module):\n",
    "    def __init__(self, input_size, hidden_size):\n",
    "        super(LSTM, self).__init__()\n",
    "        self.input_size = input_size\n",
    "        self.hidden_size = hidden_size\n",
    "        self.gate_size = 4 * self.hidden_size\n",
    "        \n",
    "        self.W_i = nn.Parameter(torch.Tensor(input_size, self.gate_size).zero_())\n",
    "        \n",
    "        self.W_h = nn.Parameter(torch.Tensor(hidden_size, self.gate_size).zero_())\n",
    "        \n",
    "        self.b = nn.Parameter(torch.Tensor(self.gate_size).zero_())\n",
    "        \n",
    "        \n",
    "    def forward(self, inputs, hidden):\n",
    "        # inputs: (seq_len, batch_size, input_size)\n",
    "        # hidden: (batch_size, hidden_size) x 2. (no layers)\n",
    "        \n",
    "        h, c = hidden\n",
    "        bs = h.size(0)\n",
    "        \n",
    "        seq_length = inputs.size(0)\n",
    "        out = Variable(torch.Tensor(seq_length, bs, self.hidden_size))\n",
    "        \n",
    "        for i, inp in enumerate(inputs):\n",
    "            S = (torch.matmul(inp, self.W_i) + torch.matmul(h, self.W_h) + self.b)\n",
    "            S = S.view(bs, 4, self.hidden_size)\n",
    "            \n",
    "            i_1 = torch.sigmoid(S[:,0,:])\n",
    "            f_1 = torch.sigmoid(S[:,1,:])\n",
    "            g_1 = torch.tanh(S[:,2,:])\n",
    "            o_1 = torch.sigmoid(S[:,3,:])\n",
    "            \n",
    "            c = f_1 * c + i_1 * g_1\n",
    "            h = o_1 * torch.tanh(c)\n",
    "            out[i] = h\n",
    "        return out, (h, c)"
   ]
  },
  {
   "cell_type": "markdown",
   "metadata": {
    "collapsed": true
   },
   "source": [
    "## Задание 2"
   ]
  },
  {
   "cell_type": "markdown",
   "metadata": {},
   "source": [
    "Используя свою реализацию LSTM и torch.nn.LSTM (torch.nn.GRU) решить задачу предсказания временного ряда.\n",
    "Попробуйте разные длины входной и выходной последовательности."
   ]
  },
  {
   "cell_type": "markdown",
   "metadata": {},
   "source": [
    "Данные о количестве пассажиров\n",
    "https://datamarket.com/data/set/22u3/international-airline-passengers-monthly-totals-in-thousands-jan-49-dec-60#!ds=22u3&display=line"
   ]
  },
  {
   "cell_type": "code",
   "execution_count": 3,
   "metadata": {},
   "outputs": [
    {
     "data": {
      "image/png": "[encoded data removed]",
      "text/plain": [
       "<Figure size 432x288 with 1 Axes>"
      ]
     },
     "metadata": {
      "needs_background": "light"
     },
     "output_type": "display_data"
    }
   ],
   "source": [
    "%matplotlib inline\n",
    "dataset = pandas.read_csv('international-airline-passengers.csv', usecols=[1], delimiter=\";\", engine='python', skipfooter=3)\n",
    "plt.plot(dataset)\n",
    "plt.show()"
   ]
  },
  {
   "cell_type": "code",
   "execution_count": 4,
   "metadata": {},
   "outputs": [],
   "source": [
    "# подготовливаем данные\n",
    "\n",
    "dataset = dataset.values\n",
    "dataset = dataset.astype('float32')\n",
    "scaler = MinMaxScaler(feature_range=(0, 1))\n",
    "dataset = scaler.fit_transform(dataset)"
   ]
  },
  {
   "cell_type": "code",
   "execution_count": 5,
   "metadata": {},
   "outputs": [
    {
     "name": "stdout",
     "output_type": "stream",
     "text": [
      "96 48\n"
     ]
    }
   ],
   "source": [
    "# разбиваем данные на train / test\n",
    "train_size = int(len(dataset) * 0.67)\n",
    "test_size = len(dataset) - train_size\n",
    "train, test = dataset[0:train_size,:], dataset[train_size:len(dataset),:]\n",
    "print(len(train), len(test))\n"
   ]
  },
  {
   "cell_type": "code",
   "execution_count": 6,
   "metadata": {},
   "outputs": [],
   "source": [
    "# Целевая переменная - сдвинутая последовательность значений входов\n",
    "\n",
    "def create_dataset(dataset, look_back=1):\n",
    "    dataX, dataY = [], []\n",
    "    for i in range(len(dataset)-look_back-1):\n",
    "        a = dataset[i:(i+look_back), 0]\n",
    "        dataX.append(a)\n",
    "        dataY.append(dataset[i + look_back, 0])\n",
    "\n",
    "    return np.array(dataX), np.array(dataY)"
   ]
  },
  {
   "cell_type": "code",
   "execution_count": 7,
   "metadata": {},
   "outputs": [],
   "source": [
    "# Пример подготовленных данных\n",
    "\n",
    "look_back = 1\n",
    "trainX, trainY = create_dataset(train, look_back)\n",
    "testX, testY = create_dataset(test, look_back)\n",
    "\n",
    "trainX = np.reshape(trainX, (trainX.shape[0], 1, trainX.shape[1]))\n",
    "testX = np.reshape(testX, (testX.shape[0], 1, testX.shape[1]))"
   ]
  },
  {
   "cell_type": "code",
   "execution_count": 8,
   "metadata": {},
   "outputs": [],
   "source": [
    "look_back = 20\n",
    "trainX, trainY = create_dataset(train, look_back)\n",
    "testX, testY = create_dataset(test, look_back)"
   ]
  },
  {
   "cell_type": "code",
   "execution_count": 9,
   "metadata": {},
   "outputs": [],
   "source": [
    "class PassengerDataset(Dataset):\n",
    "    def __init__(self, trainX, trainY):\n",
    "        self.trainX = trainX\n",
    "        self.trainY = trainY\n",
    "\n",
    "    def __len__(self):\n",
    "        return len(self.trainY)\n",
    "\n",
    "    def __getitem__(self, idx):\n",
    "        return self.trainX[idx], self.trainY[idx]\n",
    "    \n",
    "train_dataset = PassengerDataset(trainX, trainY)\n",
    "train_dataloader = DataLoader(train_dataset, shuffle=True, batch_size=64)\n",
    "\n",
    "test_dataset = PassengerDataset(testX, testY)\n",
    "test_dataloader = DataLoader(test_dataset, batch_size=64)"
   ]
  },
  {
   "cell_type": "code",
   "execution_count": 10,
   "metadata": {},
   "outputs": [],
   "source": [
    "class LSTMModel(nn.Module):\n",
    "    def __init__(self, hidden_dim, num_layers=1):\n",
    "        super(LSTMModel, self).__init__()\n",
    "        self.hidden_dim = hidden_dim\n",
    "        self.num_layers = num_layers\n",
    "\n",
    "        self.lstm = nn.LSTM(1, hidden_dim, num_layers=num_layers)\n",
    "\n",
    "        self.hidden2out = nn.Sequential(nn.Linear(hidden_dim, 1))\n",
    "\n",
    "    def forward(self, inp):\n",
    "        seq_length = inp.size(1)\n",
    "        batch_size = inp.size(0)\n",
    "        hidden = (Variable(torch.zeros(self.num_layers, batch_size, self.hidden_dim)).cpu(),\n",
    "                  Variable(torch.zeros(self.num_layers, batch_size, self.hidden_dim)).cpu())\n",
    "        inp = pack_sequence(inp)\n",
    "        \n",
    "        lstm_out, self.hidden = self.lstm(inp, hidden)\n",
    "        lstm_out, _ = pad_packed_sequence(lstm_out, False)\n",
    "        lstm_out = lstm_out[-1]\n",
    "        \n",
    "        out = self.hidden2out(lstm_out.view(batch_size, self.hidden_dim))\n",
    "        return out"
   ]
  },
  {
   "cell_type": "code",
   "execution_count": 11,
   "metadata": {},
   "outputs": [],
   "source": [
    "def generate(model, n, inputs, batch_first=True):\n",
    "    result = np.zeros(n + len(inputs))\n",
    "    result[:len(inputs)] = inputs\n",
    "    inp = 0\n",
    "    for i in range(n):\n",
    "        if batch_first:\n",
    "            inp = Variable(torch.FloatTensor(result[i:i+len(inputs)])).view(1, len(inputs), 1).cpu()\n",
    "        else:\n",
    "            inp = Variable(torch.FloatTensor(result[i:i+len(inputs)])).view(len(inputs), 1, 1).cpu()\n",
    "        res = lstm(inp)\n",
    "        result[i + len(inputs)] = res[-1].cpu().data.numpy()\n",
    "    return result"
   ]
  },
  {
   "cell_type": "code",
   "execution_count": 12,
   "metadata": {},
   "outputs": [],
   "source": [
    "lstm = LSTMModel(8, 1).cpu()"
   ]
  },
  {
   "cell_type": "code",
   "execution_count": 13,
   "metadata": {},
   "outputs": [],
   "source": [
    "optimizer = torch.optim.Adam(lstm.parameters(), lr=1e-2)\n",
    "scheduler = StepLR(optimizer, 1)"
   ]
  },
  {
   "cell_type": "code",
   "execution_count": 14,
   "metadata": {},
   "outputs": [],
   "source": [
    "from time import time\n",
    "from torch.nn.utils.rnn import pack_sequence\n",
    "from torch.nn.utils.rnn import pad_packed_sequence"
   ]
  },
  {
   "cell_type": "code",
   "execution_count": 15,
   "metadata": {},
   "outputs": [
    {
     "name": "stdout",
     "output_type": "stream",
     "text": [
      "Эпоха: 0\tОшибка: 1.930e-01\tВремя: 0.03s\n",
      "Эпоха: 100\tОшибка: 4.229e-03\tВремя: 2.25s\n",
      "Эпоха: 200\tОшибка: 3.273e-03\tВремя: 1.97s\n",
      "Эпоха: 300\tОшибка: 1.703e-03\tВремя: 1.82s\n",
      "Эпоха: 400\tОшибка: 1.749e-03\tВремя: 2.20s\n",
      "Эпоха: 500\tОшибка: 1.342e-03\tВремя: 1.97s\n",
      "Эпоха: 600\tОшибка: 1.181e-03\tВремя: 1.59s\n",
      "Эпоха: 700\tОшибка: 1.055e-03\tВремя: 1.73s\n",
      "Эпоха: 800\tОшибка: 1.234e-03\tВремя: 1.64s\n",
      "Эпоха: 900\tОшибка: 1.096e-03\tВремя: 1.65s\n",
      "Эпоха: 0\tОшибка: 9.475e-04\tВремя: 1.59s\n",
      "Эпоха: 100\tОшибка: 9.066e-04\tВремя: 1.57s\n",
      "Эпоха: 200\tОшибка: 6.349e-04\tВремя: 1.66s\n",
      "Эпоха: 300\tОшибка: 5.255e-04\tВремя: 1.62s\n",
      "Эпоха: 400\tОшибка: 7.130e-04\tВремя: 1.53s\n",
      "Эпоха: 500\tОшибка: 5.762e-04\tВремя: 1.60s\n",
      "Эпоха: 600\tОшибка: 5.353e-04\tВремя: 1.74s\n",
      "Эпоха: 700\tОшибка: 2.887e-04\tВремя: 1.59s\n",
      "Эпоха: 800\tОшибка: 3.449e-04\tВремя: 1.63s\n",
      "Эпоха: 900\tОшибка: 2.945e-04\tВремя: 1.56s\n",
      "Эпоха: 0\tОшибка: 1.605e-04\tВремя: 1.66s\n",
      "Эпоха: 100\tОшибка: 1.454e-04\tВремя: 1.57s\n",
      "Эпоха: 200\tОшибка: 1.447e-04\tВремя: 1.56s\n",
      "Эпоха: 300\tОшибка: 1.340e-04\tВремя: 1.60s\n",
      "Эпоха: 400\tОшибка: 1.655e-04\tВремя: 1.54s\n",
      "Эпоха: 500\tОшибка: 1.766e-04\tВремя: 1.62s\n",
      "Эпоха: 600\tОшибка: 2.539e-04\tВремя: 1.67s\n",
      "Эпоха: 700\tОшибка: 1.618e-04\tВремя: 1.57s\n",
      "Эпоха: 800\tОшибка: 1.354e-04\tВремя: 1.53s\n",
      "Эпоха: 900\tОшибка: 1.029e-04\tВремя: 1.58s\n"
     ]
    }
   ],
   "source": [
    "n_epochs = 1000\n",
    "loss_f = nn.MSELoss()\n",
    "start = time()\n",
    "for reduce in range(3):\n",
    "    for epoch in range(n_epochs):\n",
    "        losses = []\n",
    "        for X, Y in train_dataloader:\n",
    "            lstm.zero_grad()\n",
    "            X = Variable(torch.FloatTensor(X)).view(-1, look_back, 1).cpu()\n",
    "            Y = Variable(torch.FloatTensor(Y)).view(-1, 1).cpu()\n",
    "            p = lstm(X)\n",
    "            \n",
    "            loss = loss_f(p, Y)\n",
    "            losses.append(loss.data.item())\n",
    "            loss.backward()\n",
    "            optimizer.step()\n",
    "        if epoch % 100 == 0:\n",
    "            elapsed = time() - start\n",
    "            print('Эпоха: {}\\tОшибка: {:.3e}\\tВремя: {:.2f}s'.format(epoch, np.mean(losses), elapsed))\n",
    "            start = time()\n",
    "    scheduler.step()"
   ]
  },
  {
   "cell_type": "code",
   "execution_count": 16,
   "metadata": {},
   "outputs": [
    {
     "data": {
      "text/plain": [
       "<matplotlib.legend.Legend at 0x1a20896710>"
      ]
     },
     "execution_count": 16,
     "metadata": {},
     "output_type": "execute_result"
    },
    {
     "data": {
      "image/png": "[encoded data removed]",
      "text/plain": [
       "<Figure size 432x288 with 1 Axes>"
      ]
     },
     "metadata": {
      "needs_background": "light"
     },
     "output_type": "display_data"
    }
   ],
   "source": [
    "seq = train[:,0]\n",
    "start = 0\n",
    "plength = 70\n",
    "blength = 20\n",
    "base =  seq[start:start+blength]\n",
    "predicted = generate(lstm, plength, base)\n",
    "actual = seq[start:start+plength+blength]\n",
    "plt.plot(predicted, label='predicted')\n",
    "plt.plot(actual, label='actual')\n",
    "plt.legend(fontsize=16)"
   ]
  },
  {
   "cell_type": "code",
   "execution_count": 17,
   "metadata": {},
   "outputs": [],
   "source": [
    "class LSTMModel(nn.Module):\n",
    "    def __init__(self, hidden_dim):\n",
    "        super(LSTMModel, self).__init__()\n",
    "        self.hidden_dim = hidden_dim\n",
    "\n",
    "        self.lstm = LSTM(1, hidden_dim)\n",
    "\n",
    "        self.hidden2out = nn.Sequential(nn.Linear(hidden_dim, 1))\n",
    "\n",
    "    def forward(self, inp):\n",
    "        seq_length = inp.size(0)\n",
    "        batch_size = inp.size(1)\n",
    "        hidden = (Variable(torch.zeros(batch_size, self.hidden_dim)).cpu(),\n",
    "                  Variable(torch.zeros(batch_size, self.hidden_dim)).cpu())\n",
    "        \n",
    "        lstm_out, self.hidden = self.lstm(inp, hidden)\n",
    "        lstm_out = lstm_out[-1]\n",
    "        \n",
    "        out = self.hidden2out(lstm_out.view(batch_size, self.hidden_dim))\n",
    "        return out"
   ]
  },
  {
   "cell_type": "code",
   "execution_count": 18,
   "metadata": {},
   "outputs": [],
   "source": [
    "lstm = LSTMModel(8).cpu()"
   ]
  },
  {
   "cell_type": "code",
   "execution_count": 19,
   "metadata": {},
   "outputs": [],
   "source": [
    "optimizer = torch.optim.Adam(lstm.parameters(), lr=1e-1)\n",
    "scheduler = StepLR(optimizer, 1)"
   ]
  },
  {
   "cell_type": "code",
   "execution_count": 20,
   "metadata": {},
   "outputs": [
    {
     "name": "stdout",
     "output_type": "stream",
     "text": [
      "Эпоха: 0\tОшибка: 3.180e-02\tВремя: 0.04s\n",
      "Эпоха: 100\tОшибка: 1.881e-03\tВремя: 2.28s\n",
      "Эпоха: 200\tОшибка: 1.830e-03\tВремя: 2.29s\n",
      "Эпоха: 300\tОшибка: 1.618e-03\tВремя: 2.27s\n",
      "Эпоха: 400\tОшибка: 1.057e-03\tВремя: 2.23s\n",
      "Эпоха: 500\tОшибка: 6.832e-04\tВремя: 2.24s\n",
      "Эпоха: 600\tОшибка: 7.335e-04\tВремя: 2.22s\n",
      "Эпоха: 700\tОшибка: 2.449e-04\tВремя: 2.20s\n",
      "Эпоха: 800\tОшибка: 1.964e-04\tВремя: 3.10s\n",
      "Эпоха: 900\tОшибка: 1.769e-04\tВремя: 2.57s\n",
      "Эпоха: 0\tОшибка: 7.228e-05\tВремя: 2.05s\n",
      "Эпоха: 100\tОшибка: 6.369e-04\tВремя: 2.21s\n",
      "Эпоха: 200\tОшибка: 6.318e-05\tВремя: 2.14s\n",
      "Эпоха: 300\tОшибка: 3.121e-04\tВремя: 2.23s\n",
      "Эпоха: 400\tОшибка: 3.708e-05\tВремя: 2.50s\n",
      "Эпоха: 500\tОшибка: 8.518e-05\tВремя: 2.24s\n",
      "Эпоха: 600\tОшибка: 2.105e-04\tВремя: 2.07s\n",
      "Эпоха: 700\tОшибка: 9.466e-05\tВремя: 2.72s\n",
      "Эпоха: 800\tОшибка: 7.490e-05\tВремя: 2.25s\n",
      "Эпоха: 900\tОшибка: 8.993e-05\tВремя: 2.29s\n",
      "Эпоха: 0\tОшибка: 1.199e-04\tВремя: 2.27s\n",
      "Эпоха: 100\tОшибка: 1.468e-05\tВремя: 2.27s\n",
      "Эпоха: 200\tОшибка: 7.623e-06\tВремя: 2.30s\n",
      "Эпоха: 300\tОшибка: 9.451e-06\tВремя: 2.63s\n",
      "Эпоха: 400\tОшибка: 5.137e-06\tВремя: 2.60s\n",
      "Эпоха: 500\tОшибка: 4.473e-06\tВремя: 2.40s\n",
      "Эпоха: 600\tОшибка: 5.440e-06\tВремя: 3.04s\n",
      "Эпоха: 700\tОшибка: 4.235e-06\tВремя: 2.21s\n",
      "Эпоха: 800\tОшибка: 4.635e-06\tВремя: 2.03s\n",
      "Эпоха: 900\tОшибка: 6.712e-06\tВремя: 2.29s\n"
     ]
    }
   ],
   "source": [
    "n_epochs = 1000\n",
    "loss_f = nn.MSELoss()\n",
    "start = time()\n",
    "for reduce in range(3):\n",
    "    for epoch in range(n_epochs):\n",
    "        losses = []\n",
    "        for X, Y in train_dataloader:\n",
    "            lstm.zero_grad()\n",
    "            X = Variable(X.permute(1,0).unsqueeze(-1)).cpu()\n",
    "            Y = Variable(Y).cpu()\n",
    "            p = lstm(X).squeeze()\n",
    "            \n",
    "            loss = loss_f(p, Y)\n",
    "            losses.append(loss.data.item())\n",
    "            loss.backward()\n",
    "            optimizer.step()\n",
    "        if epoch % 100 == 0:\n",
    "            elapsed = time() - start\n",
    "            print('Эпоха: {}\\tОшибка: {:.3e}\\tВремя: {:.2f}s'.format(epoch, np.mean(losses), elapsed))\n",
    "            start = time()\n",
    "    scheduler.step()"
   ]
  },
  {
   "cell_type": "code",
   "execution_count": 21,
   "metadata": {},
   "outputs": [
    {
     "data": {
      "text/plain": [
       "<matplotlib.legend.Legend at 0x1a20973ef0>"
      ]
     },
     "execution_count": 21,
     "metadata": {},
     "output_type": "execute_result"
    },
    {
     "data": {
      "image/png": "[encoded data removed]",
      "text/plain": [
       "<Figure size 432x288 with 1 Axes>"
      ]
     },
     "metadata": {
      "needs_background": "light"
     },
     "output_type": "display_data"
    }
   ],
   "source": [
    "seq = train.reshape(-1)\n",
    "start = 0\n",
    "plength = 70\n",
    "blength = 20\n",
    "base =  seq[start:start+blength]\n",
    "predicted = generate(lstm, plength, base, batch_first=0)\n",
    "actual = seq[start:start+plength+blength]\n",
    "plt.plot(predicted, label='predicted')\n",
    "plt.plot(actual, label='actual')\n",
    "plt.legend(fontsize=16)"
   ]
  },
  {
   "cell_type": "markdown",
   "metadata": {},
   "source": [
    "#### Feedback (опционально)"
   ]
  },
  {
   "cell_type": "markdown",
   "metadata": {},
   "source": [
    "Здесь вы можете оставить список опечаток из лекции или семинара:"
   ]
  },
  {
   "cell_type": "raw",
   "metadata": {},
   "source": []
  },
  {
   "cell_type": "markdown",
   "metadata": {},
   "source": [
    "Здесь вы можете оставить комментарии по лекции или семинару:"
   ]
  },
  {
   "cell_type": "raw",
   "metadata": {},
   "source": []
  }
 ],
 "metadata": {
  "kernelspec": {
   "display_name": "Python 3",
   "language": "python",
   "name": "python3"
  },
  "language_info": {
   "codemirror_mode": {
    "name": "ipython",
    "version": 3
   },
   "file_extension": ".py",
   "mimetype": "text/x-python",
   "name": "python",
   "nbconvert_exporter": "python",
   "pygments_lexer": "ipython3",
   "version": "3.7.1"
  },
  "latex_envs": {
   "bibliofile": "biblio.bib",
   "cite_by": "apalike",
   "current_citInitial": 1,
   "eqLabelWithNumbers": true,
   "eqNumInitial": 0
  }
 },
 "nbformat": 4,
 "nbformat_minor": 1
}
