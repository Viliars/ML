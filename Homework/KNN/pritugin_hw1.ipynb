{
 "cells": [
  {
   "cell_type": "markdown",
   "metadata": {},
   "source": [
    "**Общая информация**\n",
    "\n",
    "**Срок сдачи:** 18 октября 2017, 06:00 <br\\>\n",
    "**Штраф за опоздание:** -2 балла после 06:00 18 октября, -4 балла после 06:00 25 октября, -6 баллов после 06:00 1 ноября\n",
    "\n",
    "При отправлении ДЗ указывайте фамилию в названии файла\n",
    "Присылать ДЗ необходимо в виде ссылки на свой github репозиторий в slack @alkhamush\n",
    "\n",
    "Необходимо в slack создать таск в приватный чат:\n",
    "/todo Фамилия Имя ссылка на гитхаб @alkhamush\n",
    "Пример:\n",
    "/todo Ксения Стройкова https://github.com/stroykova/spheremailru/stroykova_hw1.ipynb @alkhamush\n",
    "Дополнительно нужно просто скинуть ссылку в slack в личный чат\n",
    "\n",
    "Используйте данный Ipython Notebook при оформлении домашнего задания."
   ]
  },
  {
   "cell_type": "markdown",
   "metadata": {},
   "source": [
    "###### Задание 1 (2 баллов)\n",
    "Реализовать KNN в классе MyKNeighborsClassifier (обязательное условие: точность не ниже sklearn реализации)\n",
    "Разберитесь самостоятельно, какая мера расстояния используется в KNeighborsClassifier дефолтно и реализуйте свой алгоритм именно с этой мерой. Самостоятельно разберитесь, как считается score из KNeighborsClassifier и реализуйте аналог в своём классе. Score не должен уступать значению KNN из sklearn\n",
    "\n",
    "###### Задание 2 (2 балла)\n",
    "Добиться скорости работы на fit,  predict и predict_proba сравнимой со sklearn для iris и mnist\n",
    "Для этого используем numpy\n",
    "\n",
    "###### Задание 3 (2 балла)\n",
    "Для iris найдите такой параметр n_neighbors, при котором выдаётся наилучший score. Нарисуйте график зависимости score от n_neighbors\n",
    "\n",
    "###### Задание 4 (3 балла)\n",
    "Добавить algorithm='kd_tree' в реализацию KNN (использовать KDTree из sklearn.neighbors). Значение n_neighbors нужно взять из задания 3. Добиться скорости работы на fit,  predict и predict_proba сравнимой со sklearn для iris и mnist\n",
    "Для этого используем numpy. Score не должен уступать значению KNN из sklearn\n",
    "\n",
    "###### Задание 5 (1 балла)\n",
    "Описать для чего нужны следующие библиотеки/классы/функции (список будет ниже)\n",
    "\n",
    "**Штрафные баллы:**\n",
    "\n",
    "1. Невыполнение PEP8 -1 балл\n",
    "2. Отсутствие фамилии в имени скрипта (скрипт должен называться по аналогии со  stroykova_hw1.ipynb) -1 балл\n",
    "3. Все строчки должны быть выполнены. Нужно, чтобы output команды можно было увидеть уже в git'е. В противном случае -1 балл\n",
    "4. При оформлении ДЗ нужно пользоваться данным файлом в качестве шаблона. Не нужно удалять и видоизменять структуру кода и текст. В противном случае -1 балл\n"
   ]
  },
  {
   "cell_type": "code",
   "execution_count": 1,
   "metadata": {},
   "outputs": [],
   "source": [
    "import numpy as np\n",
    "import matplotlib.pyplot as plt\n",
    "\n",
    "import seaborn as sns\n",
    "from sklearn import datasets\n",
    "from sklearn.base import ClassifierMixin\n",
    "from sklearn.datasets import fetch_mldata\n",
    "from sklearn.neighbors.base import NeighborsBase, KNeighborsMixin, SupervisedIntegerMixin \n",
    "from sklearn.model_selection import train_test_split\n",
    "from sklearn.neighbors import KNeighborsClassifier\n",
    "from sklearn.neighbors import KDTree\n",
    "%load_ext pycodestyle_magic"
   ]
  },
  {
   "cell_type": "code",
   "execution_count": 2,
   "metadata": {},
   "outputs": [],
   "source": [
    "#%%pycodestyle - код работает только без него\n",
    "# я закоментил когда влез в PEP8 и он сказал что все хорошо\n",
    "\n",
    "\n",
    "class MyKNeighborsClassifier(NeighborsBase, KNeighborsMixin,\n",
    "                             SupervisedIntegerMixin, ClassifierMixin):\n",
    "\n",
    "    def __init__(self, n_neighbors, algorithm='brute'):\n",
    "        self.n_neighbors = n_neighbors\n",
    "        self.algorithm = algorithm\n",
    "\n",
    "    def fit(self, X, y):\n",
    "        self.data = np.array(X, float)\n",
    "        if self.algorithm == 'kd_tree':\n",
    "            self.KDTree = KDTree(self.data)\n",
    "        self.data2 = np.sum(self.data ** 2, axis=1).reshape(1, -1)\n",
    "        self.cls = y\n",
    "        self.classes = list(set(y))\n",
    "        self.lens = len(self.classes)\n",
    "\n",
    "    def predict(self, X):\n",
    "        if self.algorithm == 'brute':\n",
    "            X2 = np.array(X, float)\n",
    "            distances = np.sqrt(self.data2 - 2 * X2 @ self.data.T +\n",
    "                           np.sum(X2 ** 2, axis=1).reshape(-1, 1))\n",
    "            buf = np.argpartition(distances, range(self.n_neighbors),\n",
    "                                  axis=1)[:, :self.n_neighbors]\n",
    "            near = self.cls[buf]\n",
    "            answer = np.zeros(X.shape[0])\n",
    "            for i in range(X.shape[0]):\n",
    "                count = {k: 0 for k in self.classes}\n",
    "                for j in near[i]:\n",
    "                    count[j] += 1\n",
    "                answer[i] = max(count, key=count.get)\n",
    "            return answer\n",
    "        elif self.algorithm == 'kd_tree':\n",
    "            X2 = np.array(X, float)\n",
    "            buf = self.KDTree.query(X2, k=self.n_neighbors)[1]\n",
    "            near = self.cls[buf[:, :self.n_neighbors]]\n",
    "            answer = np.zeros(X.shape[0])\n",
    "            for i in range(X.shape[0]):\n",
    "                count = {k: 0 for k in self.classes}\n",
    "                for j in near[i]:\n",
    "                    count[j] += 1\n",
    "                answer[i] = max(count, key=count.get)\n",
    "            return answer\n",
    "\n",
    "    def predict_proba(self, X):\n",
    "        if self.algorithm == 'brute':\n",
    "            X2 = np.array(X, float)\n",
    "            distances = np.sqrt(self.data2 - 2 * X2 @ self.data.T +\n",
    "                           np.sum(X2 ** 2, axis=1).reshape(-1, 1))\n",
    "            buf = np.argpartition(distances, range(self.n_neighbors),\n",
    "                                  axis=1)[:, :self.n_neighbors]\n",
    "            near = self.cls[buf]\n",
    "            answer = np.zeros((X.shape[0], self.lens), float)\n",
    "            for i in range(X.shape[0]):\n",
    "                count = {k: 0 for k in self.classes}\n",
    "                for j in near[i]:\n",
    "                    count[j] += 1\n",
    "                for j in range(self.lens):\n",
    "                    answer[i][j] = count[self.cls[j]]\n",
    "            return answer / self.n_neighbors\n",
    "        elif self.algorithm == 'kd_tree':\n",
    "            X2 = np.array(X, float)\n",
    "            buf = self.KDTree.query(X2, k=self.n_neighbors)[1]\n",
    "            near = self.cls[buf[:, :self.n_neighbors]]\n",
    "            answer = np.zeros((X.shape[0], self.lens), float)\n",
    "            for i in range(X.shape[0]):\n",
    "                count = {k: 0 for k in self.classes}\n",
    "                for j in near[i]:\n",
    "                    count[j] += 1\n",
    "                for j in range(self.lens):\n",
    "                    answer[i][j] = count[self.cls[j]]\n",
    "            return answer / self.n_neighbors\n",
    "\n",
    "    def score(self, X, y):\n",
    "        return np.sum(y == self.predict(X)) / len(y)\n",
    "\n",
    "    def set_params(self, n_neighbors, algorithm='brute'):\n",
    "        self.n_neighbors = n_neighbors\n",
    "        self.algorithm = algorithm"
   ]
  },
  {
   "cell_type": "markdown",
   "metadata": {},
   "source": [
    "**IRIS**"
   ]
  },
  {
   "cell_type": "code",
   "execution_count": 3,
   "metadata": {},
   "outputs": [],
   "source": [
    "iris = datasets.load_iris()"
   ]
  },
  {
   "cell_type": "code",
   "execution_count": 4,
   "metadata": {},
   "outputs": [],
   "source": [
    "X_train, X_test, y_train, y_test = train_test_split(iris.data, iris.target, test_size=0.1, stratify=iris.target)"
   ]
  },
  {
   "cell_type": "code",
   "execution_count": 5,
   "metadata": {},
   "outputs": [],
   "source": [
    "clf = KNeighborsClassifier(n_neighbors=2)\n",
    "my_clf = MyKNeighborsClassifier(n_neighbors=2)"
   ]
  },
  {
   "cell_type": "code",
   "execution_count": 6,
   "metadata": {},
   "outputs": [
    {
     "name": "stdout",
     "output_type": "stream",
     "text": [
      "CPU times: user 3.44 ms, sys: 0 ns, total: 3.44 ms\n",
      "Wall time: 3.47 ms\n"
     ]
    },
    {
     "data": {
      "text/plain": [
       "KNeighborsClassifier(algorithm='auto', leaf_size=30, metric='minkowski',\n",
       "           metric_params=None, n_jobs=None, n_neighbors=2, p=2,\n",
       "           weights='uniform')"
      ]
     },
     "execution_count": 6,
     "metadata": {},
     "output_type": "execute_result"
    }
   ],
   "source": [
    "%time clf.fit(X_train, y_train)"
   ]
  },
  {
   "cell_type": "code",
   "execution_count": 7,
   "metadata": {},
   "outputs": [
    {
     "name": "stdout",
     "output_type": "stream",
     "text": [
      "CPU times: user 0 ns, sys: 1.01 ms, total: 1.01 ms\n",
      "Wall time: 1.04 ms\n"
     ]
    }
   ],
   "source": [
    "%time my_clf.fit(X_train, y_train)"
   ]
  },
  {
   "cell_type": "code",
   "execution_count": 8,
   "metadata": {},
   "outputs": [
    {
     "name": "stdout",
     "output_type": "stream",
     "text": [
      "CPU times: user 0 ns, sys: 3.28 ms, total: 3.28 ms\n",
      "Wall time: 3.31 ms\n"
     ]
    },
    {
     "data": {
      "text/plain": [
       "array([0, 1, 0, 0, 0, 1, 2, 2, 0, 2, 1, 2, 1, 2, 1])"
      ]
     },
     "execution_count": 8,
     "metadata": {},
     "output_type": "execute_result"
    }
   ],
   "source": [
    "%time clf.predict(X_test)"
   ]
  },
  {
   "cell_type": "code",
   "execution_count": 9,
   "metadata": {},
   "outputs": [
    {
     "name": "stdout",
     "output_type": "stream",
     "text": [
      "CPU times: user 1.72 ms, sys: 0 ns, total: 1.72 ms\n",
      "Wall time: 2.15 ms\n"
     ]
    },
    {
     "data": {
      "text/plain": [
       "array([0., 1., 0., 0., 0., 1., 2., 2., 0., 2., 1., 2., 1., 2., 1.])"
      ]
     },
     "execution_count": 9,
     "metadata": {},
     "output_type": "execute_result"
    }
   ],
   "source": [
    "%time my_clf.predict(X_test)"
   ]
  },
  {
   "cell_type": "code",
   "execution_count": 10,
   "metadata": {},
   "outputs": [
    {
     "name": "stdout",
     "output_type": "stream",
     "text": [
      "CPU times: user 2.51 ms, sys: 0 ns, total: 2.51 ms\n",
      "Wall time: 2.54 ms\n"
     ]
    },
    {
     "data": {
      "text/plain": [
       "array([[1. , 0. , 0. ],\n",
       "       [0. , 1. , 0. ],\n",
       "       [1. , 0. , 0. ],\n",
       "       [1. , 0. , 0. ],\n",
       "       [1. , 0. , 0. ],\n",
       "       [0. , 1. , 0. ],\n",
       "       [0. , 0. , 1. ],\n",
       "       [0. , 0. , 1. ],\n",
       "       [1. , 0. , 0. ],\n",
       "       [0. , 0. , 1. ],\n",
       "       [0. , 0.5, 0.5],\n",
       "       [0. , 0. , 1. ],\n",
       "       [0. , 1. , 0. ],\n",
       "       [0. , 0. , 1. ],\n",
       "       [0. , 1. , 0. ]])"
      ]
     },
     "execution_count": 10,
     "metadata": {},
     "output_type": "execute_result"
    }
   ],
   "source": [
    "%time clf.predict_proba(X_test)"
   ]
  },
  {
   "cell_type": "code",
   "execution_count": 11,
   "metadata": {},
   "outputs": [
    {
     "name": "stdout",
     "output_type": "stream",
     "text": [
      "CPU times: user 1.37 ms, sys: 204 µs, total: 1.57 ms\n",
      "Wall time: 1.6 ms\n"
     ]
    },
    {
     "data": {
      "text/plain": [
       "array([[1. , 0. , 0. ],\n",
       "       [0. , 0. , 0. ],\n",
       "       [1. , 0. , 0. ],\n",
       "       [1. , 0. , 0. ],\n",
       "       [1. , 0. , 0. ],\n",
       "       [0. , 0. , 0. ],\n",
       "       [0. , 1. , 1. ],\n",
       "       [0. , 1. , 1. ],\n",
       "       [1. , 0. , 0. ],\n",
       "       [0. , 1. , 1. ],\n",
       "       [0. , 0.5, 0.5],\n",
       "       [0. , 1. , 1. ],\n",
       "       [0. , 0. , 0. ],\n",
       "       [0. , 1. , 1. ],\n",
       "       [0. , 0. , 0. ]])"
      ]
     },
     "execution_count": 11,
     "metadata": {},
     "output_type": "execute_result"
    }
   ],
   "source": [
    "%time my_clf.predict_proba(X_test)"
   ]
  },
  {
   "cell_type": "code",
   "execution_count": 12,
   "metadata": {},
   "outputs": [
    {
     "name": "stdout",
     "output_type": "stream",
     "text": [
      "CPU times: user 3.51 ms, sys: 0 ns, total: 3.51 ms\n",
      "Wall time: 4.1 ms\n"
     ]
    },
    {
     "data": {
      "text/plain": [
       "0.8666666666666667"
      ]
     },
     "execution_count": 12,
     "metadata": {},
     "output_type": "execute_result"
    }
   ],
   "source": [
    "%time clf.score(X_test, y_test)"
   ]
  },
  {
   "cell_type": "code",
   "execution_count": 13,
   "metadata": {},
   "outputs": [
    {
     "name": "stdout",
     "output_type": "stream",
     "text": [
      "CPU times: user 1.55 ms, sys: 0 ns, total: 1.55 ms\n",
      "Wall time: 1.58 ms\n"
     ]
    },
    {
     "data": {
      "text/plain": [
       "0.8666666666666667"
      ]
     },
     "execution_count": 13,
     "metadata": {},
     "output_type": "execute_result"
    }
   ],
   "source": [
    "%time my_clf.score(X_test, y_test)"
   ]
  },
  {
   "cell_type": "markdown",
   "metadata": {},
   "source": [
    "Задание 3"
   ]
  },
  {
   "cell_type": "code",
   "execution_count": 14,
   "metadata": {},
   "outputs": [
    {
     "data": {
      "image/png": "[encoded data removed]",
      "text/plain": [
       "<Figure size 432x288 with 1 Axes>"
      ]
     },
     "metadata": {},
     "output_type": "display_data"
    }
   ],
   "source": [
    "rez = []\n",
    "loops = 2000\n",
    "my_clf = MyKNeighborsClassifier(n_neighbors = 2)\n",
    "for i in range(1,30):\n",
    "    bufer = []\n",
    "    for j in range(loops):\n",
    "        X_train, X_test, y_train, y_test = (\n",
    "            train_test_split(\n",
    "                iris.data, iris.target, test_size=0.1, stratify=iris.target\n",
    "            )\n",
    "        )\n",
    "        my_clf.set_params(n_neighbors = i)\n",
    "        my_clf.fit(X_train, y_train)\n",
    "        bufer.append(my_clf.score(X_test, y_test))\n",
    "    rez.append(np.mean(bufer))\n",
    "rez = np.array(rez)\n",
    "mx = np.argmax(rez)\n",
    "plt.plot(range(1,30), rez)\n",
    "plt.xlabel(\"n neighbors\")\n",
    "plt.ylabel(f\"mean score over {n_loops} loops\")\n",
    "plt.title(f\"Best score with {mx} neighbors\")\n",
    "plt.show()"
   ]
  },
  {
   "cell_type": "markdown",
   "metadata": {},
   "source": [
    "**MNIST**"
   ]
  },
  {
   "cell_type": "code",
   "execution_count": 15,
   "metadata": {},
   "outputs": [
    {
     "name": "stderr",
     "output_type": "stream",
     "text": [
      "/home/viliar/.local/lib/python3.6/site-packages/sklearn/utils/deprecation.py:77: DeprecationWarning: Function fetch_mldata is deprecated; fetch_mldata was deprecated in version 0.20 and will be removed in version 0.22\n",
      "  warnings.warn(msg, category=DeprecationWarning)\n",
      "/home/viliar/.local/lib/python3.6/site-packages/sklearn/utils/deprecation.py:77: DeprecationWarning: Function mldata_filename is deprecated; mldata_filename was deprecated in version 0.20 and will be removed in version 0.22\n",
      "  warnings.warn(msg, category=DeprecationWarning)\n"
     ]
    }
   ],
   "source": [
    "mnist = fetch_mldata('MNIST original')"
   ]
  },
  {
   "cell_type": "code",
   "execution_count": 16,
   "metadata": {},
   "outputs": [],
   "source": [
    "X_train, X_test, y_train, y_test = train_test_split(mnist.data, mnist.target, test_size=0.01, stratify=mnist.target)"
   ]
  },
  {
   "cell_type": "code",
   "execution_count": 17,
   "metadata": {},
   "outputs": [],
   "source": [
    "clf = KNeighborsClassifier(n_neighbors=2, algorithm='brute')\n",
    "my_clf = MyKNeighborsClassifier(n_neighbors=2, algorithm='brute')"
   ]
  },
  {
   "cell_type": "code",
   "execution_count": 18,
   "metadata": {},
   "outputs": [
    {
     "name": "stdout",
     "output_type": "stream",
     "text": [
      "CPU times: user 16.7 ms, sys: 10 µs, total: 16.7 ms\n",
      "Wall time: 17.7 ms\n"
     ]
    },
    {
     "data": {
      "text/plain": [
       "KNeighborsClassifier(algorithm='brute', leaf_size=30, metric='minkowski',\n",
       "           metric_params=None, n_jobs=None, n_neighbors=2, p=2,\n",
       "           weights='uniform')"
      ]
     },
     "execution_count": 18,
     "metadata": {},
     "output_type": "execute_result"
    }
   ],
   "source": [
    "%time clf.fit(X_train, y_train)"
   ]
  },
  {
   "cell_type": "code",
   "execution_count": 19,
   "metadata": {},
   "outputs": [
    {
     "name": "stdout",
     "output_type": "stream",
     "text": [
      "CPU times: user 384 ms, sys: 720 ms, total: 1.1 s\n",
      "Wall time: 1.59 s\n"
     ]
    }
   ],
   "source": [
    "%time my_clf.fit(X_train, y_train)"
   ]
  },
  {
   "cell_type": "code",
   "execution_count": 20,
   "metadata": {},
   "outputs": [
    {
     "name": "stdout",
     "output_type": "stream",
     "text": [
      "CPU times: user 33.8 s, sys: 2.15 s, total: 35.9 s\n",
      "Wall time: 29.4 s\n"
     ]
    },
    {
     "data": {
      "text/plain": [
       "array([8., 3., 4., 4., 5., 0., 3., 2., 8., 1., 2., 0., 8., 6., 3., 9., 3.,\n",
       "       8., 6., 6., 6., 8., 1., 4., 6., 4., 9., 6., 5., 5., 3., 6., 6., 9.,\n",
       "       0., 5., 2., 4., 5., 1., 8., 0., 5., 1., 4., 7., 1., 8., 5., 3., 2.,\n",
       "       4., 6., 2., 0., 2., 0., 7., 5., 4., 3., 9., 9., 4., 4., 3., 0., 6.,\n",
       "       5., 4., 0., 1., 9., 6., 0., 4., 5., 9., 3., 0., 9., 3., 5., 1., 5.,\n",
       "       1., 5., 1., 7., 8., 8., 8., 9., 0., 9., 9., 0., 8., 5., 6., 2., 5.,\n",
       "       8., 4., 1., 7., 6., 2., 1., 9., 3., 1., 1., 4., 0., 2., 5., 1., 3.,\n",
       "       4., 6., 0., 4., 7., 8., 1., 0., 4., 2., 9., 3., 7., 6., 3., 6., 5.,\n",
       "       2., 8., 3., 4., 3., 1., 1., 5., 5., 2., 7., 6., 9., 6., 3., 4., 3.,\n",
       "       1., 5., 3., 2., 0., 5., 8., 2., 9., 9., 8., 8., 1., 2., 3., 2., 7.,\n",
       "       0., 8., 0., 4., 7., 4., 4., 8., 6., 6., 3., 8., 4., 4., 0., 3., 9.,\n",
       "       4., 1., 9., 0., 7., 0., 3., 5., 2., 2., 6., 1., 5., 2., 6., 5., 8.,\n",
       "       3., 3., 4., 7., 7., 0., 1., 7., 6., 0., 5., 1., 2., 1., 2., 3., 7.,\n",
       "       4., 1., 3., 7., 7., 1., 6., 2., 4., 2., 2., 9., 5., 8., 2., 3., 1.,\n",
       "       8., 3., 0., 2., 9., 2., 3., 8., 9., 9., 9., 3., 2., 4., 9., 3., 0.,\n",
       "       3., 2., 5., 9., 6., 1., 1., 9., 6., 9., 9., 9., 2., 0., 1., 1., 6.,\n",
       "       5., 0., 5., 0., 4., 1., 2., 6., 7., 4., 6., 8., 1., 7., 4., 1., 2.,\n",
       "       9., 4., 5., 8., 0., 1., 7., 2., 7., 8., 9., 8., 8., 6., 6., 8., 3.,\n",
       "       8., 1., 0., 4., 6., 3., 7., 5., 7., 6., 7., 7., 2., 3., 1., 1., 1.,\n",
       "       7., 8., 6., 5., 3., 3., 6., 0., 4., 0., 3., 5., 9., 5., 1., 1., 0.,\n",
       "       7., 1., 2., 3., 0., 3., 9., 6., 7., 0., 4., 9., 6., 9., 7., 1., 7.,\n",
       "       3., 9., 7., 8., 7., 3., 9., 7., 9., 1., 9., 0., 4., 2., 0., 2., 4.,\n",
       "       6., 5., 8., 7., 7., 7., 3., 0., 1., 8., 4., 7., 1., 2., 0., 7., 6.,\n",
       "       9., 2., 8., 6., 1., 5., 4., 0., 2., 4., 1., 7., 2., 4., 9., 6., 0.,\n",
       "       8., 7., 1., 9., 9., 4., 9., 7., 0., 4., 6., 7., 0., 3., 0., 8., 1.,\n",
       "       4., 5., 2., 3., 5., 0., 0., 6., 5., 8., 3., 4., 6., 4., 9., 1., 0.,\n",
       "       3., 8., 0., 6., 2., 8., 4., 5., 9., 5., 1., 7., 5., 5., 3., 5., 5.,\n",
       "       6., 7., 7., 9., 0., 1., 2., 1., 4., 2., 1., 2., 8., 4., 8., 1., 7.,\n",
       "       9., 9., 7., 1., 4., 5., 2., 9., 6., 9., 2., 5., 8., 7., 5., 9., 0.,\n",
       "       2., 7., 0., 1., 0., 6., 0., 8., 0., 5., 5., 5., 4., 6., 4., 7., 3.,\n",
       "       7., 8., 3., 4., 1., 3., 0., 7., 0., 8., 8., 1., 5., 8., 3., 1., 1.,\n",
       "       6., 6., 2., 1., 6., 2., 1., 5., 6., 4., 3., 0., 1., 6., 0., 1., 4.,\n",
       "       8., 2., 7., 1., 5., 7., 2., 9., 5., 6., 6., 7., 2., 7., 3., 4., 1.,\n",
       "       6., 2., 0., 1., 0., 3., 9., 2., 0., 7., 6., 5., 7., 3., 3., 9., 7.,\n",
       "       3., 2., 5., 5., 5., 0., 2., 7., 2., 4., 2., 9., 9., 2., 7., 3., 4.,\n",
       "       5., 9., 1., 7., 3., 6., 3., 8., 7., 9., 0., 4., 2., 8., 9., 3., 4.,\n",
       "       3., 4., 1., 2., 9., 6., 5., 9., 8., 6., 7., 0., 9., 9., 2., 1., 1.,\n",
       "       4., 9., 1., 3., 7., 2., 5., 2., 3., 3., 5., 7., 0., 1., 5., 2., 1.,\n",
       "       0., 4., 9., 4., 6., 3., 4., 3., 2., 4., 8., 8., 7., 6., 8., 2., 7.,\n",
       "       7., 6., 6., 7., 7., 5., 3., 2., 3., 8., 9., 9., 2., 3., 8., 1., 0.,\n",
       "       0., 1., 3., 0., 6., 1., 7., 0., 7., 1., 4., 6., 9., 0., 8., 4., 8.,\n",
       "       4., 8., 7.])"
      ]
     },
     "execution_count": 20,
     "metadata": {},
     "output_type": "execute_result"
    }
   ],
   "source": [
    "%time clf.predict(X_test)"
   ]
  },
  {
   "cell_type": "code",
   "execution_count": 21,
   "metadata": {},
   "outputs": [
    {
     "name": "stdout",
     "output_type": "stream",
     "text": [
      "CPU times: user 34 s, sys: 2.11 s, total: 36.1 s\n",
      "Wall time: 22.4 s\n"
     ]
    },
    {
     "data": {
      "text/plain": [
       "array([8., 3., 4., 4., 5., 0., 3., 2., 8., 1., 2., 0., 8., 6., 3., 9., 3.,\n",
       "       8., 6., 6., 6., 8., 1., 4., 6., 4., 9., 6., 5., 5., 3., 6., 6., 9.,\n",
       "       0., 5., 2., 4., 5., 1., 8., 0., 5., 1., 4., 7., 1., 8., 5., 3., 2.,\n",
       "       4., 6., 2., 0., 2., 0., 7., 5., 4., 3., 9., 9., 4., 4., 3., 0., 6.,\n",
       "       5., 4., 0., 1., 9., 6., 0., 4., 5., 9., 3., 0., 9., 3., 5., 1., 5.,\n",
       "       1., 5., 1., 7., 8., 8., 8., 9., 0., 9., 9., 0., 8., 5., 6., 2., 5.,\n",
       "       8., 4., 1., 7., 6., 2., 1., 9., 3., 1., 1., 4., 0., 2., 5., 1., 3.,\n",
       "       4., 6., 0., 4., 7., 8., 1., 0., 4., 2., 9., 3., 7., 6., 3., 6., 5.,\n",
       "       2., 8., 3., 4., 3., 1., 1., 5., 5., 2., 7., 6., 9., 6., 3., 4., 3.,\n",
       "       1., 5., 3., 2., 0., 5., 8., 2., 9., 9., 8., 8., 1., 2., 3., 2., 7.,\n",
       "       0., 8., 0., 4., 7., 4., 4., 8., 6., 6., 3., 8., 4., 4., 0., 3., 9.,\n",
       "       4., 1., 9., 0., 7., 0., 3., 5., 2., 2., 6., 1., 5., 2., 6., 5., 8.,\n",
       "       3., 3., 4., 7., 7., 0., 1., 7., 6., 0., 5., 1., 2., 1., 2., 3., 7.,\n",
       "       4., 1., 3., 7., 7., 1., 6., 2., 4., 2., 2., 9., 5., 8., 2., 3., 1.,\n",
       "       8., 3., 0., 2., 9., 2., 3., 8., 9., 9., 9., 3., 2., 4., 9., 3., 0.,\n",
       "       3., 2., 5., 9., 6., 1., 1., 9., 6., 9., 9., 9., 2., 0., 1., 1., 6.,\n",
       "       5., 0., 5., 0., 4., 1., 2., 6., 7., 4., 6., 8., 1., 7., 4., 1., 2.,\n",
       "       9., 4., 5., 8., 0., 1., 7., 2., 7., 8., 9., 8., 8., 6., 6., 8., 3.,\n",
       "       8., 1., 0., 4., 6., 3., 7., 5., 7., 6., 7., 7., 2., 3., 1., 1., 1.,\n",
       "       7., 8., 6., 5., 3., 3., 6., 0., 4., 0., 3., 5., 9., 5., 1., 1., 0.,\n",
       "       7., 1., 2., 3., 0., 3., 9., 6., 7., 0., 4., 9., 6., 9., 7., 1., 7.,\n",
       "       3., 9., 7., 8., 7., 3., 9., 7., 9., 1., 9., 0., 4., 2., 0., 2., 4.,\n",
       "       6., 5., 8., 7., 7., 7., 3., 0., 1., 8., 4., 7., 1., 2., 0., 7., 6.,\n",
       "       9., 2., 8., 6., 1., 5., 4., 0., 2., 4., 1., 7., 2., 4., 9., 6., 0.,\n",
       "       8., 7., 1., 9., 9., 4., 9., 7., 0., 4., 6., 7., 0., 3., 0., 8., 1.,\n",
       "       4., 5., 2., 3., 5., 0., 0., 6., 5., 8., 3., 4., 6., 4., 9., 1., 0.,\n",
       "       3., 8., 0., 6., 2., 8., 4., 5., 9., 5., 1., 7., 5., 5., 3., 5., 5.,\n",
       "       6., 7., 7., 9., 0., 1., 2., 1., 4., 2., 1., 2., 8., 4., 8., 1., 7.,\n",
       "       9., 9., 7., 1., 4., 5., 2., 9., 6., 9., 2., 5., 8., 7., 5., 9., 0.,\n",
       "       2., 7., 0., 1., 0., 6., 0., 8., 0., 5., 5., 5., 4., 6., 4., 7., 3.,\n",
       "       7., 8., 3., 4., 1., 3., 0., 7., 0., 8., 8., 1., 5., 8., 3., 1., 1.,\n",
       "       6., 6., 2., 1., 6., 2., 1., 5., 6., 4., 3., 0., 1., 6., 0., 1., 4.,\n",
       "       8., 2., 7., 1., 5., 7., 2., 9., 5., 6., 6., 7., 2., 7., 3., 4., 1.,\n",
       "       6., 2., 0., 1., 0., 3., 9., 2., 0., 7., 6., 5., 7., 3., 3., 9., 7.,\n",
       "       3., 2., 5., 5., 5., 0., 2., 7., 2., 4., 2., 9., 9., 2., 7., 3., 4.,\n",
       "       5., 9., 1., 7., 3., 6., 3., 8., 7., 9., 0., 4., 2., 8., 9., 3., 4.,\n",
       "       3., 4., 1., 2., 9., 6., 5., 9., 8., 6., 7., 0., 9., 9., 2., 1., 1.,\n",
       "       4., 9., 1., 3., 7., 2., 5., 2., 3., 3., 5., 7., 0., 1., 5., 2., 1.,\n",
       "       0., 4., 9., 4., 6., 3., 4., 3., 2., 4., 8., 8., 7., 6., 8., 2., 7.,\n",
       "       7., 6., 6., 7., 7., 5., 3., 2., 3., 8., 9., 9., 2., 3., 8., 1., 0.,\n",
       "       0., 1., 3., 0., 6., 1., 7., 0., 7., 1., 4., 6., 9., 0., 8., 4., 8.,\n",
       "       4., 8., 7.])"
      ]
     },
     "execution_count": 21,
     "metadata": {},
     "output_type": "execute_result"
    }
   ],
   "source": [
    "%time my_clf.predict(X_test)"
   ]
  },
  {
   "cell_type": "code",
   "execution_count": 22,
   "metadata": {},
   "outputs": [
    {
     "name": "stdout",
     "output_type": "stream",
     "text": [
      "CPU times: user 33.9 s, sys: 1.77 s, total: 35.6 s\n",
      "Wall time: 23.1 s\n"
     ]
    },
    {
     "data": {
      "text/plain": [
       "array([[0. , 0. , 0. , ..., 0. , 1. , 0. ],\n",
       "       [0. , 0. , 0. , ..., 0. , 0. , 0. ],\n",
       "       [0. , 0. , 0. , ..., 0. , 0. , 0. ],\n",
       "       ...,\n",
       "       [0. , 0. , 0. , ..., 0. , 0. , 0.5],\n",
       "       [0. , 0. , 0. , ..., 0. , 1. , 0. ],\n",
       "       [0. , 0. , 0. , ..., 1. , 0. , 0. ]])"
      ]
     },
     "execution_count": 22,
     "metadata": {},
     "output_type": "execute_result"
    }
   ],
   "source": [
    "%time clf.predict_proba(X_test)"
   ]
  },
  {
   "cell_type": "code",
   "execution_count": 23,
   "metadata": {},
   "outputs": [
    {
     "name": "stdout",
     "output_type": "stream",
     "text": [
      "CPU times: user 34 s, sys: 2.1 s, total: 36.1 s\n",
      "Wall time: 22.2 s\n"
     ]
    },
    {
     "data": {
      "text/plain": [
       "array([[0. , 0. , 0. , ..., 0. , 0. , 0. ],\n",
       "       [0. , 0. , 0. , ..., 0. , 1. , 0. ],\n",
       "       [0. , 0. , 0. , ..., 0. , 0. , 0. ],\n",
       "       ...,\n",
       "       [0. , 0. , 0. , ..., 0.5, 0. , 0. ],\n",
       "       [0. , 0. , 0. , ..., 0. , 0. , 0. ],\n",
       "       [1. , 1. , 0. , ..., 0. , 0. , 0. ]])"
      ]
     },
     "execution_count": 23,
     "metadata": {},
     "output_type": "execute_result"
    }
   ],
   "source": [
    "%time my_clf.predict_proba(X_test)"
   ]
  },
  {
   "cell_type": "code",
   "execution_count": 24,
   "metadata": {},
   "outputs": [
    {
     "data": {
      "text/plain": [
       "0.96"
      ]
     },
     "execution_count": 24,
     "metadata": {},
     "output_type": "execute_result"
    }
   ],
   "source": [
    "clf.score(X_test, y_test)"
   ]
  },
  {
   "cell_type": "code",
   "execution_count": 25,
   "metadata": {},
   "outputs": [
    {
     "data": {
      "text/plain": [
       "0.96"
      ]
     },
     "execution_count": 25,
     "metadata": {},
     "output_type": "execute_result"
    }
   ],
   "source": [
    "my_clf.score(X_test, y_test)"
   ]
  },
  {
   "cell_type": "markdown",
   "metadata": {},
   "source": [
    "Задание 4"
   ]
  },
  {
   "cell_type": "code",
   "execution_count": 26,
   "metadata": {},
   "outputs": [],
   "source": [
    "clf = KNeighborsClassifier(n_neighbors=mx, algorithm='kd_tree')\n",
    "my_clf = MyKNeighborsClassifier(n_neighbors=mx, algorithm='kd_tree')"
   ]
  },
  {
   "cell_type": "code",
   "execution_count": 27,
   "metadata": {},
   "outputs": [],
   "source": [
    "X_train, X_test, y_train, y_test = train_test_split(mnist.data, mnist.target, test_size=0.01, stratify=mnist.target)"
   ]
  },
  {
   "cell_type": "code",
   "execution_count": 28,
   "metadata": {},
   "outputs": [
    {
     "name": "stdout",
     "output_type": "stream",
     "text": [
      "CPU times: user 2min 47s, sys: 1.97 s, total: 2min 49s\n",
      "Wall time: 2min 51s\n"
     ]
    },
    {
     "data": {
      "text/plain": [
       "KNeighborsClassifier(algorithm='kd_tree', leaf_size=30, metric='minkowski',\n",
       "           metric_params=None, n_jobs=None, n_neighbors=14, p=2,\n",
       "           weights='uniform')"
      ]
     },
     "execution_count": 28,
     "metadata": {},
     "output_type": "execute_result"
    }
   ],
   "source": [
    "%time clf.fit(X_train, y_train)"
   ]
  },
  {
   "cell_type": "code",
   "execution_count": 29,
   "metadata": {},
   "outputs": [
    {
     "name": "stdout",
     "output_type": "stream",
     "text": [
      "CPU times: user 2min 46s, sys: 2.62 s, total: 2min 48s\n",
      "Wall time: 2min 53s\n"
     ]
    }
   ],
   "source": [
    "%time my_clf.fit(X_train, y_train)"
   ]
  },
  {
   "cell_type": "code",
   "execution_count": 30,
   "metadata": {},
   "outputs": [
    {
     "name": "stdout",
     "output_type": "stream",
     "text": [
      "CPU times: user 3min 44s, sys: 1 s, total: 3min 45s\n",
      "Wall time: 3min 52s\n"
     ]
    },
    {
     "data": {
      "text/plain": [
       "array([9., 5., 2., 4., 3., 5., 4., 6., 8., 3., 9., 3., 8., 8., 7., 2., 4.,\n",
       "       6., 2., 7., 3., 3., 2., 0., 7., 9., 8., 0., 9., 0., 6., 7., 7., 0.,\n",
       "       9., 0., 2., 5., 2., 8., 9., 3., 4., 5., 6., 9., 1., 2., 8., 2., 2.,\n",
       "       6., 9., 6., 2., 5., 8., 3., 5., 3., 9., 2., 5., 3., 5., 8., 5., 6.,\n",
       "       5., 3., 4., 8., 1., 6., 5., 0., 1., 2., 5., 6., 3., 3., 7., 1., 1.,\n",
       "       8., 7., 6., 2., 4., 6., 1., 2., 5., 5., 7., 3., 3., 9., 0., 7., 8.,\n",
       "       9., 9., 3., 3., 3., 2., 4., 9., 5., 6., 5., 1., 7., 7., 8., 1., 8.,\n",
       "       4., 6., 5., 9., 4., 9., 2., 6., 1., 8., 1., 5., 3., 3., 7., 5., 7.,\n",
       "       1., 2., 1., 8., 6., 3., 6., 8., 9., 0., 7., 2., 3., 7., 3., 2., 4.,\n",
       "       6., 6., 3., 0., 4., 1., 4., 4., 7., 8., 7., 2., 8., 3., 6., 2., 2.,\n",
       "       4., 1., 7., 7., 0., 7., 1., 2., 9., 8., 2., 7., 8., 7., 1., 6., 0.,\n",
       "       1., 0., 8., 9., 7., 0., 1., 8., 5., 6., 0., 8., 6., 5., 6., 5., 5.,\n",
       "       6., 4., 2., 8., 3., 2., 6., 7., 5., 5., 4., 8., 6., 7., 3., 7., 7.,\n",
       "       4., 5., 4., 0., 1., 6., 7., 1., 9., 6., 2., 8., 2., 1., 5., 0., 1.,\n",
       "       0., 3., 2., 1., 8., 2., 9., 7., 3., 2., 9., 9., 5., 8., 7., 6., 8.,\n",
       "       6., 7., 2., 4., 0., 7., 2., 5., 1., 7., 4., 9., 4., 9., 7., 0., 9.,\n",
       "       8., 4., 2., 2., 6., 6., 2., 1., 0., 3., 6., 3., 5., 2., 1., 4., 1.,\n",
       "       9., 0., 5., 8., 6., 4., 3., 6., 2., 1., 0., 1., 6., 4., 1., 8., 7.,\n",
       "       9., 8., 7., 9., 6., 8., 5., 9., 6., 8., 7., 5., 5., 0., 3., 6., 3.,\n",
       "       2., 9., 1., 1., 4., 1., 0., 8., 1., 4., 9., 7., 3., 3., 7., 6., 0.,\n",
       "       2., 7., 1., 1., 0., 3., 7., 3., 7., 8., 1., 9., 7., 8., 5., 1., 8.,\n",
       "       7., 5., 3., 6., 9., 6., 3., 4., 8., 5., 7., 8., 0., 9., 7., 0., 1.,\n",
       "       5., 6., 0., 2., 7., 0., 1., 1., 3., 1., 5., 0., 4., 7., 2., 1., 6.,\n",
       "       3., 1., 1., 4., 5., 0., 1., 1., 9., 1., 5., 4., 1., 4., 3., 3., 0.,\n",
       "       8., 4., 0., 5., 2., 3., 0., 1., 1., 4., 2., 6., 1., 8., 3., 5., 0.,\n",
       "       6., 7., 6., 9., 0., 9., 9., 3., 8., 8., 0., 0., 0., 8., 4., 0., 7.,\n",
       "       7., 3., 5., 2., 5., 6., 9., 1., 7., 6., 1., 4., 0., 4., 3., 9., 0.,\n",
       "       5., 6., 4., 7., 2., 0., 3., 0., 6., 1., 0., 4., 5., 1., 9., 3., 8.,\n",
       "       2., 2., 1., 4., 7., 8., 0., 9., 4., 9., 6., 9., 2., 0., 0., 7., 4.,\n",
       "       3., 4., 4., 3., 5., 1., 1., 8., 5., 8., 1., 4., 2., 6., 4., 6., 6.,\n",
       "       3., 0., 3., 9., 1., 9., 1., 6., 1., 8., 3., 6., 1., 1., 1., 1., 1.,\n",
       "       1., 0., 8., 4., 2., 1., 2., 7., 4., 2., 9., 9., 5., 7., 2., 5., 7.,\n",
       "       5., 2., 0., 5., 3., 1., 5., 5., 2., 5., 8., 2., 9., 5., 1., 0., 9.,\n",
       "       6., 2., 9., 0., 0., 9., 5., 2., 9., 7., 4., 3., 1., 2., 9., 7., 3.,\n",
       "       4., 6., 1., 8., 9., 3., 0., 3., 3., 1., 8., 4., 8., 3., 1., 8., 4.,\n",
       "       2., 9., 9., 8., 4., 3., 1., 5., 4., 5., 8., 2., 3., 8., 2., 4., 3.,\n",
       "       9., 2., 1., 1., 7., 3., 3., 4., 3., 0., 1., 6., 0., 4., 6., 0., 8.,\n",
       "       0., 8., 6., 8., 1., 4., 9., 8., 9., 1., 5., 9., 9., 6., 2., 9., 7.,\n",
       "       9., 7., 0., 5., 7., 0., 8., 7., 0., 4., 7., 0., 2., 5., 8., 7., 6.,\n",
       "       0., 3., 1., 4., 4., 9., 2., 0., 4., 4., 1., 6., 1., 0., 1., 9., 5.,\n",
       "       0., 3., 4., 9., 9., 5., 3., 0., 7., 2., 2., 7., 1., 6., 3., 6., 6.,\n",
       "       1., 0., 4.])"
      ]
     },
     "execution_count": 30,
     "metadata": {},
     "output_type": "execute_result"
    }
   ],
   "source": [
    "%time clf.predict(X_test)"
   ]
  },
  {
   "cell_type": "code",
   "execution_count": 31,
   "metadata": {},
   "outputs": [
    {
     "name": "stdout",
     "output_type": "stream",
     "text": [
      "CPU times: user 3min 8s, sys: 722 ms, total: 3min 9s\n",
      "Wall time: 3min 13s\n"
     ]
    },
    {
     "data": {
      "text/plain": [
       "array([9., 5., 2., 4., 3., 5., 4., 6., 8., 3., 9., 3., 8., 8., 7., 2., 4.,\n",
       "       6., 2., 7., 3., 3., 2., 0., 7., 9., 8., 0., 9., 0., 6., 7., 7., 0.,\n",
       "       9., 0., 2., 5., 2., 8., 9., 3., 4., 5., 6., 9., 1., 2., 8., 2., 2.,\n",
       "       6., 9., 6., 2., 5., 8., 3., 5., 3., 9., 2., 5., 3., 5., 8., 5., 6.,\n",
       "       5., 3., 4., 8., 1., 6., 5., 0., 1., 2., 5., 6., 3., 3., 7., 1., 1.,\n",
       "       8., 7., 6., 2., 4., 6., 1., 2., 5., 5., 7., 3., 3., 9., 0., 7., 8.,\n",
       "       9., 9., 3., 3., 3., 2., 4., 9., 5., 6., 5., 1., 7., 7., 8., 1., 8.,\n",
       "       4., 6., 5., 9., 4., 9., 2., 6., 1., 8., 1., 5., 3., 3., 7., 5., 7.,\n",
       "       1., 2., 1., 8., 6., 3., 6., 8., 9., 0., 7., 2., 3., 7., 3., 2., 4.,\n",
       "       6., 6., 3., 0., 4., 1., 4., 4., 7., 8., 7., 2., 8., 3., 6., 2., 2.,\n",
       "       4., 1., 7., 7., 0., 7., 1., 2., 9., 8., 2., 7., 8., 7., 1., 6., 0.,\n",
       "       1., 0., 8., 9., 7., 0., 1., 8., 5., 6., 0., 8., 6., 5., 6., 5., 5.,\n",
       "       6., 4., 2., 8., 3., 2., 6., 7., 5., 5., 4., 8., 6., 7., 3., 7., 7.,\n",
       "       4., 5., 4., 0., 1., 6., 7., 1., 9., 6., 2., 8., 2., 1., 5., 0., 1.,\n",
       "       0., 3., 2., 1., 8., 2., 9., 7., 3., 2., 9., 9., 5., 8., 7., 6., 8.,\n",
       "       6., 7., 2., 4., 0., 7., 2., 5., 1., 7., 4., 9., 4., 9., 7., 0., 9.,\n",
       "       8., 4., 2., 2., 6., 6., 2., 1., 0., 3., 6., 3., 5., 2., 1., 4., 1.,\n",
       "       9., 0., 5., 8., 6., 4., 3., 6., 2., 1., 0., 1., 6., 4., 1., 8., 7.,\n",
       "       9., 8., 7., 9., 6., 8., 5., 9., 6., 8., 7., 5., 5., 0., 3., 6., 3.,\n",
       "       2., 9., 1., 1., 4., 1., 0., 8., 1., 4., 9., 7., 3., 3., 7., 6., 0.,\n",
       "       2., 7., 1., 1., 0., 3., 7., 3., 7., 8., 1., 9., 7., 8., 5., 1., 8.,\n",
       "       7., 5., 3., 6., 9., 6., 3., 4., 8., 5., 7., 8., 0., 9., 7., 0., 1.,\n",
       "       5., 6., 0., 2., 7., 0., 1., 1., 3., 1., 5., 0., 4., 7., 2., 1., 6.,\n",
       "       3., 1., 1., 4., 5., 0., 1., 1., 9., 1., 5., 4., 1., 4., 3., 3., 0.,\n",
       "       8., 4., 0., 5., 2., 3., 0., 1., 1., 4., 2., 6., 1., 8., 3., 5., 0.,\n",
       "       6., 7., 6., 9., 0., 9., 9., 3., 8., 8., 0., 0., 0., 8., 4., 0., 7.,\n",
       "       7., 3., 5., 2., 5., 6., 9., 1., 7., 6., 1., 4., 0., 4., 3., 9., 0.,\n",
       "       5., 6., 4., 7., 2., 0., 3., 0., 6., 1., 0., 4., 5., 1., 9., 3., 8.,\n",
       "       2., 2., 1., 4., 7., 8., 0., 9., 4., 9., 6., 9., 2., 0., 0., 7., 4.,\n",
       "       3., 4., 4., 3., 5., 1., 1., 8., 5., 8., 1., 4., 2., 6., 4., 6., 6.,\n",
       "       3., 0., 3., 9., 1., 9., 1., 6., 1., 8., 3., 6., 1., 1., 1., 1., 1.,\n",
       "       1., 0., 8., 4., 2., 1., 2., 7., 4., 2., 9., 9., 5., 7., 2., 5., 7.,\n",
       "       5., 2., 0., 5., 3., 1., 5., 5., 2., 5., 8., 2., 9., 5., 1., 0., 9.,\n",
       "       6., 2., 9., 0., 0., 9., 5., 2., 9., 7., 4., 3., 1., 2., 9., 7., 3.,\n",
       "       4., 6., 1., 8., 9., 3., 0., 3., 3., 1., 8., 4., 8., 3., 1., 8., 4.,\n",
       "       2., 9., 9., 8., 4., 3., 1., 5., 4., 5., 8., 2., 3., 8., 2., 4., 3.,\n",
       "       9., 2., 1., 1., 7., 3., 3., 4., 3., 0., 1., 6., 0., 4., 6., 0., 8.,\n",
       "       0., 8., 6., 8., 1., 4., 9., 8., 9., 1., 5., 9., 9., 6., 2., 9., 7.,\n",
       "       9., 7., 0., 5., 7., 0., 8., 7., 0., 4., 7., 0., 2., 5., 8., 7., 6.,\n",
       "       0., 3., 1., 4., 4., 9., 2., 0., 4., 4., 1., 6., 1., 0., 1., 9., 5.,\n",
       "       0., 3., 4., 9., 9., 5., 3., 0., 7., 2., 2., 7., 1., 6., 3., 6., 6.,\n",
       "       1., 0., 4.])"
      ]
     },
     "execution_count": 31,
     "metadata": {},
     "output_type": "execute_result"
    }
   ],
   "source": [
    "%time my_clf.predict(X_test)"
   ]
  },
  {
   "cell_type": "code",
   "execution_count": 32,
   "metadata": {},
   "outputs": [
    {
     "name": "stdout",
     "output_type": "stream",
     "text": [
      "CPU times: user 3min 44s, sys: 1.37 s, total: 3min 46s\n",
      "Wall time: 3min 53s\n"
     ]
    },
    {
     "data": {
      "text/plain": [
       "array([[0., 0., 0., ..., 0., 0., 1.],\n",
       "       [0., 0., 0., ..., 0., 0., 0.],\n",
       "       [0., 0., 1., ..., 0., 0., 0.],\n",
       "       ...,\n",
       "       [0., 1., 0., ..., 0., 0., 0.],\n",
       "       [1., 0., 0., ..., 0., 0., 0.],\n",
       "       [0., 0., 0., ..., 0., 0., 0.]])"
      ]
     },
     "execution_count": 32,
     "metadata": {},
     "output_type": "execute_result"
    }
   ],
   "source": [
    "%time clf.predict_proba(X_test)"
   ]
  },
  {
   "cell_type": "code",
   "execution_count": 33,
   "metadata": {},
   "outputs": [
    {
     "name": "stdout",
     "output_type": "stream",
     "text": [
      "CPU times: user 3min 8s, sys: 1.48 s, total: 3min 10s\n",
      "Wall time: 3min 16s\n"
     ]
    },
    {
     "data": {
      "text/plain": [
       "array([[0., 0., 0., ..., 0., 0., 0.],\n",
       "       [0., 0., 0., ..., 1., 0., 0.],\n",
       "       [1., 0., 0., ..., 0., 0., 0.],\n",
       "       ...,\n",
       "       [0., 0., 1., ..., 0., 0., 0.],\n",
       "       [0., 0., 0., ..., 0., 1., 0.],\n",
       "       [0., 0., 0., ..., 0., 0., 0.]])"
      ]
     },
     "execution_count": 33,
     "metadata": {},
     "output_type": "execute_result"
    }
   ],
   "source": [
    "%time my_clf.predict_proba(X_test)"
   ]
  },
  {
   "cell_type": "code",
   "execution_count": 34,
   "metadata": {},
   "outputs": [
    {
     "data": {
      "text/plain": [
       "0.9628571428571429"
      ]
     },
     "execution_count": 34,
     "metadata": {},
     "output_type": "execute_result"
    }
   ],
   "source": [
    "clf.score(X_test, y_test)"
   ]
  },
  {
   "cell_type": "code",
   "execution_count": 35,
   "metadata": {},
   "outputs": [
    {
     "data": {
      "text/plain": [
       "0.9628571428571429"
      ]
     },
     "execution_count": 35,
     "metadata": {},
     "output_type": "execute_result"
    }
   ],
   "source": [
    "my_clf.score(X_test, y_test)"
   ]
  },
  {
   "cell_type": "markdown",
   "metadata": {},
   "source": [
    "Задание 5"
   ]
  },
  {
   "cell_type": "code",
   "execution_count": 36,
   "metadata": {},
   "outputs": [],
   "source": [
    "# seaborn библиотека для визуализации данных, основанная на matplotlib (более простая и высокоуровневая)\n",
    "# matplotlib библиотека для визуализации данных\n",
    "# train_test_split функция рандомизированного деления данных на тренировочные и тестирующие\n",
    "# Pipelin%load_ext e (from sklearn.pipeline import Pipeline) класс для последовательного преобразования данных\n",
    "# StandardScaler (from sklearn.preprocessing import StandardScaler) класс для стандартизации данных\n",
    "# ClassifierMixin класс, который миксует классы классификаторов ( удобно для ансамблей классификаторов или \n",
    "# для классификатора голосования)\n",
    "# NeighborsBase базовый класс для классификатора KNN\n",
    "# KNeighborsMixin базовый класс для поиска K ближайших соседей\n",
    "# SupervisedIntegerMixin базовый класс для метода fit"
   ]
  }
 ],
 "metadata": {
  "kernelspec": {
   "display_name": "Python 3",
   "language": "python",
   "name": "python3"
  },
  "language_info": {
   "codemirror_mode": {
    "name": "ipython",
    "version": 3
   },
   "file_extension": ".py",
   "mimetype": "text/x-python",
   "name": "python",
   "nbconvert_exporter": "python",
   "pygments_lexer": "ipython3",
   "version": "3.6.6"
  }
 },
 "nbformat": 4,
 "nbformat_minor": 2
}
