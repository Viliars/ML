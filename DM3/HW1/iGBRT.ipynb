{
 "cells": [
  {
   "cell_type": "markdown",
   "metadata": {},
   "source": [
    "# Initialized Gradient Boosted Regression Trees"
   ]
  },
  {
   "cell_type": "markdown",
   "metadata": {},
   "source": [
    "### Постановка ML задачи"
   ]
  },
  {
   "cell_type": "markdown",
   "metadata": {},
   "source": [
    "##### Решаем задачу восстановления функции в общем контексте обучения с учителем.\n",
    "\n",
    "##### У нас есть набор пар признаков $ x_i $ и целевых переменных $ y_i $ на котором мы будем восстанавливать зависимость вида $ y = f(x) $. \n",
    "\n",
    "##### Восстанавливать будем приближением $ \\hat{f}(x) $.\n",
    "\n",
    "##### Функция потерь $ L(y, f) = (y - f)^2 $, которую мы будем минимизировать:\n",
    "\n",
    "# $ y \\approx \\hat{f}(x) $\n",
    "\n",
    "# $ \\hat{f}(x) = \\mathop{{\\arg\\min}\\vphantom{\\sim}}\\limits_{\\displaystyle _{\\mathbf f(x)}} L(y, f(x)) $"
   ]
  },
  {
   "cell_type": "markdown",
   "metadata": {},
   "source": [
    "# Представление\n",
    "\n",
    "### Будем искать приближение $ \\hat{f}(x) = \\sum_{i=0}^T \\hat{f}_i(x) $"
   ]
  },
  {
   "cell_type": "markdown",
   "metadata": {},
   "source": [
    "# Индукция\n",
    "\n",
    "##### Предположим, что у нас уже есть $ t-1 $ модель\n",
    "\n",
    "##### Нужно построить модель под номером $ t $\n",
    "\n",
    "# $ \\hat{f}(x) = \\sum_{i=0}^{t-1} \\hat{f}_i(x) $\n",
    "\n",
    "# $ (\\rho_t, \\theta_t) = \\mathop{{\\arg\\min}\\vphantom{\\sim}}\\limits_{\\displaystyle _{\\mathbf \\rho,\\theta}} 𝔼_{x,y}[L(y, \\hat{f}_i(x) + \\rho*h(x, \\theta)] $\n",
    "\n",
    "# $ \\hat{f}_t(x) = \\rho_t*h(x, \\theta_t) $"
   ]
  },
  {
   "cell_type": "markdown",
   "metadata": {},
   "source": [
    "# А теперь к практическому поиску параметров\n",
    "\n",
    "# $ \\hat{f}(x) = \\sum_{i=0}^{t-1} \\hat{f}_i(x) $\n",
    "\n",
    "# $ r_{it} = -{\\left[ \\frac{dL(y_i, f(x_i))}{df(x_i)} \\right]}_{f(x)=\\hat{f}(x)} i=1..n$\n",
    "\n",
    "# $ \\theta_t = \\mathop{{\\arg\\min}\\vphantom{\\sim}}\\limits_{\\displaystyle _{\\mathbf \\theta}} \\sum_{i=1}^{n} (r_{it} - h (x_i, \\theta))^2 $\n",
    "\n",
    "# $ \\rho_t = \\mathop{{\\arg\\min}\\vphantom{\\sim}}\\limits_{\\displaystyle _{\\mathbf \\rho}} \\sum_{i=1}^{n} L(y_i, \\hat{f}(x_i) + \\rho*h(x_i, \\theta_t)) $"
   ]
  },
  {
   "cell_type": "markdown",
   "metadata": {},
   "source": [
    "# Посмотрим, что мы имеем\n",
    "\n",
    "### 1) Обучающая выборка $ \\{(x_i, y_i)\\}_{i=1..n} $\n",
    "\n",
    "### 2) Число моделей T\n",
    "\n",
    "### 3) Функция потерь - квадратичная $ L(y, f) = (y - f)^2 $\n",
    "\n",
    "### 4) Базовый алгоритм - рещающее дерево\n",
    "\n",
    "### 5) Гиперпараметры базового алгоритма"
   ]
  },
  {
   "cell_type": "markdown",
   "metadata": {},
   "source": [
    "# Алгоритм\n",
    "\n",
    "##### 1) Инициализировать GBM RandomForest/ом (?)\n",
    "\n",
    "##### 2) Для каждой итерации t=1..T:\n",
    "\n",
    "##### 2.1) Посчитать $ r_{it} = -{\\left[ \\frac{dL(y_i, f(x_i))}{df(x_i)} \\right]}_{f(x)=\\hat{f}(x)} i=1..n $\n",
    "\n",
    "##### 2.2) Построить новый базовый алгоритм  $ h_t(x) $ как регрессию на псевдо-остатках $ \\{(x_i, r_{it})\\}_{i=1..n} $\n",
    "\n",
    "##### 2.3) Найти оптимальный коэффициент  $ \\rho_t $ при $ h_t(x) $ относительно исходной функции потерь\n",
    "##### $ \\rho_t = \\mathop{{\\arg\\min}\\vphantom{\\sim}}\\limits_{\\displaystyle _{\\mathbf \\rho}} \\sum_{i=1}^{n} L(y_i, \\hat{f}(x_i) + \\rho*h(x_i, \\theta)) $\n",
    "\n",
    "##### 2.4) Сохранить  $ \\hat{f}_t(x) = \\rho_t*h(x) $\n",
    "\n",
    "##### 2.5) Обновить текущее приближение $ \\hat{f}(x) $ \n",
    "##### $ \\hat{f}(x) = \\sum_{i=0}^{t} \\hat{f}_i(x) $ \n",
    "\n",
    "##### 3) Получить итоговую модель $ \\hat{f}(x) = \\sum_{i=0}^{T} \\hat{f}_i(x) $ "
   ]
  }
 ],
 "metadata": {
  "kernelspec": {
   "display_name": "Python 3",
   "language": "python",
   "name": "python3"
  },
  "language_info": {
   "codemirror_mode": {
    "name": "ipython",
    "version": 3
   },
   "file_extension": ".py",
   "mimetype": "text/x-python",
   "name": "python",
   "nbconvert_exporter": "python",
   "pygments_lexer": "ipython3",
   "version": "3.7.1"
  }
 },
 "nbformat": 4,
 "nbformat_minor": 2
}
